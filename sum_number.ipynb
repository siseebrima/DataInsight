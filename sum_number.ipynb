{
 "cells": [
  {
   "cell_type": "markdown",
   "id": "bc897cf1-38af-4db8-97a0-ae379d3024ee",
   "metadata": {},
   "source": [
    "## Given a positive integer, sum all the numbers from 1 up to the number"
   ]
  },
  {
   "cell_type": "code",
   "execution_count": 6,
   "id": "f359bc97-f633-461f-94cb-31f4a8258a92",
   "metadata": {},
   "outputs": [],
   "source": [
    "def number_sum(num):\n",
    "    '''\n",
    "        A program that returns the sum of all the numbers within a given range\n",
    "    '''\n",
    "    \n",
    "    #  implement a try except block to catch errors for non integers\n",
    "    try:\n",
    "        # Check to see if the number is a positive number\n",
    "        if((num >= 1) & (type(num) == int)):\n",
    "\n",
    "            # use list comprehension to get all the numbers in a list\n",
    "            numbers = [number for number in range(1, num + 1)]\n",
    "\n",
    "            #returns the sum\n",
    "            return sum(numbers)\n",
    "        # returns an error message if the value supplied is not a possitive number\n",
    "        else:\n",
    "            return 'Error: number provided should be 1 or greater'\n",
    "        \n",
    "    # incase the input supplied doen't conform with what is expected, the program will print an error\n",
    "    except:\n",
    "        print(\"Only integers are allowed!\") "
   ]
  },
  {
   "cell_type": "markdown",
   "id": "80912775-6836-4e9a-a7a8-83c02cff25f3",
   "metadata": {},
   "source": [
    "### Examples"
   ]
  },
  {
   "cell_type": "markdown",
   "id": "8ad86ff5-ca0d-4a71-9443-76a54315d19e",
   "metadata": {},
   "source": [
    "sum all the numbers from 1 to 1000"
   ]
  },
  {
   "cell_type": "code",
   "execution_count": 7,
   "id": "0331f768-f3c4-4c08-8d06-73f4238fbcff",
   "metadata": {},
   "outputs": [
    {
     "data": {
      "text/plain": [
       "500500"
      ]
     },
     "execution_count": 7,
     "metadata": {},
     "output_type": "execute_result"
    }
   ],
   "source": [
    "number_sum(1000)"
   ]
  },
  {
   "cell_type": "markdown",
   "id": "d80b61dd-1deb-4fc3-8b1f-a58e168d14f1",
   "metadata": {},
   "source": [
    "Now, try a negative number"
   ]
  },
  {
   "cell_type": "code",
   "execution_count": 8,
   "id": "91c6d434-5f08-4634-8c84-e56e2b83a10f",
   "metadata": {},
   "outputs": [
    {
     "data": {
      "text/plain": [
       "'Error: number provided should be 1 or greater'"
      ]
     },
     "execution_count": 8,
     "metadata": {},
     "output_type": "execute_result"
    }
   ],
   "source": [
    "number_sum(-1000)"
   ]
  },
  {
   "cell_type": "markdown",
   "id": "31806600-3aa2-4753-b935-5931dae220ea",
   "metadata": {},
   "source": [
    "Finally, let's try non integers"
   ]
  },
  {
   "cell_type": "code",
   "execution_count": 9,
   "id": "a931b781-6af1-4a78-a3db-eace1505760d",
   "metadata": {},
   "outputs": [
    {
     "data": {
      "text/plain": [
       "'Error: number provided should be 1 or greater'"
      ]
     },
     "execution_count": 9,
     "metadata": {},
     "output_type": "execute_result"
    }
   ],
   "source": [
    "number_sum(True)"
   ]
  },
  {
   "cell_type": "code",
   "execution_count": 10,
   "id": "1a8d18e3-32ca-44fa-b357-f06e117e601d",
   "metadata": {},
   "outputs": [
    {
     "name": "stdout",
     "output_type": "stream",
     "text": [
      "Only integers are allowed!\n"
     ]
    }
   ],
   "source": [
    "number_sum('test')"
   ]
  },
  {
   "cell_type": "code",
   "execution_count": null,
   "id": "cac23d77-929a-4f50-96b4-7b74752e410c",
   "metadata": {},
   "outputs": [],
   "source": []
  }
 ],
 "metadata": {
  "kernelspec": {
   "display_name": "Python 3 (ipykernel)",
   "language": "python",
   "name": "python3"
  },
  "language_info": {
   "codemirror_mode": {
    "name": "ipython",
    "version": 3
   },
   "file_extension": ".py",
   "mimetype": "text/x-python",
   "name": "python",
   "nbconvert_exporter": "python",
   "pygments_lexer": "ipython3",
   "version": "3.9.7"
  }
 },
 "nbformat": 4,
 "nbformat_minor": 5
}
