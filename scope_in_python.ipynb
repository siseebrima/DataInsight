{
 "cells": [
  {
   "cell_type": "markdown",
   "id": "81b12691-7a87-4615-b33d-23afcff26b1d",
   "metadata": {},
   "source": [
    "# Variable Scope in Python"
   ]
  },
  {
   "cell_type": "markdown",
   "id": "1ae28b51-456d-4fb7-a638-2e0abd420e21",
   "metadata": {},
   "source": [
    "In python, a variable is only accessible from inside the area it has been created in. The term `Scope` is used to describe this logic.\n"
   ]
  },
  {
   "cell_type": "markdown",
   "id": "13fa1244-450f-4d69-8500-be2355777ebc",
   "metadata": {},
   "source": [
    "A variable can  be in one of these types of scopes:\n",
    "- Local Scope\n",
    "- Global Scope\n",
    "- Built-in Scope"
   ]
  },
  {
   "cell_type": "markdown",
   "id": "4d1b9a4e-f7ed-4e09-b8c9-07ffb78f39d7",
   "metadata": {},
   "source": [
    "## Local Scope"
   ]
  },
  {
   "cell_type": "markdown",
   "id": "4b90f178-f654-4881-925f-dc7aab7b2d88",
   "metadata": {},
   "source": [
    "In this case the variable can only be accessible within the code block it's declared"
   ]
  },
  {
   "cell_type": "markdown",
   "id": "06bb519c-6b5f-4c80-855e-f39e7477face",
   "metadata": {},
   "source": [
    "Example, take a look at the variable `a` in the following function."
   ]
  },
  {
   "cell_type": "code",
   "execution_count": 7,
   "id": "bee43948-8a51-47ad-b705-ce2e0a7a8ace",
   "metadata": {},
   "outputs": [],
   "source": [
    "def func():\n",
    "    a = 10\n",
    "    print(a)"
   ]
  },
  {
   "cell_type": "markdown",
   "id": "ae70b4e5-023e-41b3-b18c-350be2e55e37",
   "metadata": {},
   "source": [
    "`a` is only accessible from within this function. If you you try to access `a` outside this function, the program is going to throw a  NameError."
   ]
  },
  {
   "cell_type": "markdown",
   "id": "a8ebaf01-07eb-4299-b82f-2f896a14176e",
   "metadata": {},
   "source": [
    "## Global Scope\n"
   ]
  },
  {
   "cell_type": "markdown",
   "id": "1795e8fb-c14a-4ab3-ad32-11f3d51fffb1",
   "metadata": {},
   "source": [
    "If a variable is created in the the main body of the python code, it is considered to have a global scope. This makes it accessible from anywhere in the program."
   ]
  },
  {
   "cell_type": "markdown",
   "id": "3e48aaa3-e2b3-4d30-9597-ddd72fca4176",
   "metadata": {},
   "source": [
    "For example, the code below illustrates this logic.\n"
   ]
  },
  {
   "cell_type": "code",
   "execution_count": 8,
   "id": "d11b5f26-2321-430f-a8ac-e6a544a8cf50",
   "metadata": {},
   "outputs": [
    {
     "name": "stdout",
     "output_type": "stream",
     "text": [
      "10\n",
      "10\n"
     ]
    }
   ],
   "source": [
    "x = 10\n",
    "\n",
    "def test_func():\n",
    "    print(x)\n",
    "\n",
    "test_func()\n",
    "print(x)"
   ]
  },
  {
   "cell_type": "markdown",
   "id": "1af0761f-6304-4890-b4d4-fbb2e6db2d99",
   "metadata": {},
   "source": [
    "From the results above, it is evident that indeed variable `x` is accessible from anywhere in the program."
   ]
  },
  {
   "cell_type": "markdown",
   "id": "7ae1a60c-2aaf-4d36-a8ae-164c8bf4069a",
   "metadata": {},
   "source": [
    "## Built-in Scope"
   ]
  },
  {
   "cell_type": "markdown",
   "id": "801fceee-78a1-4e43-a071-5e7223b889bc",
   "metadata": {},
   "source": [
    "This is actually considered as the widest scope in the python programming language. All reserved names in python have a built-in scope. Variables / names in this scope can be accessed from anywhere in the program without the need to declare them."
   ]
  },
  {
   "cell_type": "markdown",
   "id": "c2b9b331-8b52-4217-8d46-3441d0cd1c20",
   "metadata": {},
   "source": [
    "Maybe an example will go a long way in explaining this.\n"
   ]
  },
  {
   "cell_type": "code",
   "execution_count": 9,
   "id": "52fb7a02-e280-4b20-8a89-f777f5a8749e",
   "metadata": {},
   "outputs": [
    {
     "name": "stdout",
     "output_type": "stream",
     "text": [
      "<class 'int'>\n",
      "99\n"
     ]
    }
   ],
   "source": [
    "b = 99.9\n",
    "b = int(b)\n",
    "print(type(b))\n",
    "print(b)"
   ]
  },
  {
   "cell_type": "markdown",
   "id": "99a8adc7-3ffd-449b-b0c9-5f2b88067b0b",
   "metadata": {},
   "source": [
    "In the example above, the functions int(), print() and type() all have built in scope."
   ]
  },
  {
   "cell_type": "markdown",
   "id": "f6c11466-02fc-4bb4-aede-2b8b9a37d730",
   "metadata": {},
   "source": [
    "If we declare variables with the same name in different scopes. The local scope will use the local variable instead of the global one."
   ]
  },
  {
   "cell_type": "markdown",
   "id": "b3e51412-d641-4448-9f10-42628d90b249",
   "metadata": {},
   "source": [
    "We can use the `global` keyword before the variable name if we want the opposite of the above. "
   ]
  },
  {
   "cell_type": "markdown",
   "id": "9ce887bb-365e-4df6-b87e-7513a1d09cc3",
   "metadata": {},
   "source": [
    "We can use the `nonlocal` keyword to accomplish something similar to the `global`."
   ]
  },
  {
   "cell_type": "code",
   "execution_count": null,
   "id": "ad85882e-cd75-4922-aadf-7b461dd0a87f",
   "metadata": {},
   "outputs": [],
   "source": []
  }
 ],
 "metadata": {
  "kernelspec": {
   "display_name": "Python 3 (ipykernel)",
   "language": "python",
   "name": "python3"
  },
  "language_info": {
   "codemirror_mode": {
    "name": "ipython",
    "version": 3
   },
   "file_extension": ".py",
   "mimetype": "text/x-python",
   "name": "python",
   "nbconvert_exporter": "python",
   "pygments_lexer": "ipython3",
   "version": "3.9.7"
  }
 },
 "nbformat": 4,
 "nbformat_minor": 5
}
