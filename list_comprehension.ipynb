{
 "cells": [
  {
   "cell_type": "markdown",
   "id": "94ef6a73-b563-4209-bb1b-0a5ce0cfc1eb",
   "metadata": {},
   "source": [
    "# List Comprehension"
   ]
  },
  {
   "cell_type": "markdown",
   "id": "646f241b-9134-451b-a571-c6fa3f268a08",
   "metadata": {},
   "source": [
    "Imagine you have a list named `prices` below"
   ]
  },
  {
   "cell_type": "code",
   "execution_count": 1,
   "id": "f11a1c0f-5858-4d85-a6e5-719efb4fc6ad",
   "metadata": {},
   "outputs": [],
   "source": [
    "prices = [20, 25, 35, 40, 45, 70]"
   ]
  },
  {
   "cell_type": "markdown",
   "id": "bbdf13c8-bd87-4c8d-9aec-a5a4d0384eb8",
   "metadata": {},
   "source": [
    "And you want to implement a 5% discount on all the prices because of a promotion you are currently doing.\n",
    "\n",
    "Let's say you have tens of thousands of products and the `prices` list above is just a subset of that price list. The computational time to execute this task will be high when you use the traditional `for loops`."
   ]
  },
  {
   "cell_type": "markdown",
   "id": "2c5f0212-5dc9-4299-8bdc-313d6cf8b44d",
   "metadata": {},
   "source": [
    "That is why we will discuss an alternative to `for loops` called `list comprehension`. It's more compact syntactically and easier to follow. Also, it is more efficient in the runtime. But don't take my word for it, we will go through it together and you will see for yourself!"
   ]
  },
  {
   "cell_type": "markdown",
   "id": "cbc8c976-2d6a-4e7c-9500-1aad4aab4b3a",
   "metadata": {},
   "source": [
    "Back to our problem of fixing the discounted prices. We will begin with the traditional for loop.\n"
   ]
  },
  {
   "cell_type": "code",
   "execution_count": 2,
   "id": "38ced6bf-3ee5-4c6e-861c-263cb4ec49e3",
   "metadata": {},
   "outputs": [
    {
     "name": "stdout",
     "output_type": "stream",
     "text": [
      "[19.0, 23.75, 33.25, 38.0, 42.75, 66.5]\n"
     ]
    }
   ],
   "source": [
    "new_prices = []\n",
    "\n",
    "for price in prices:\n",
    "    discount = 0.05 * price # 5% discount\n",
    "    price -= discount\n",
    "    new_prices.append(price)\n",
    "    \n",
    "print(new_prices)"
   ]
  },
  {
   "cell_type": "markdown",
   "id": "3dbf9552-812a-4a24-8f6a-9ba9fa83c7ee",
   "metadata": {},
   "source": [
    "As you can see, there are about six lines of code to accomplish this simple task. We will now immitate this using the list comprehension logic and compare at the end of the tutorial.\n"
   ]
  },
  {
   "cell_type": "code",
   "execution_count": 3,
   "id": "7d4daa89-596c-4ca9-abea-e17f7aa116fe",
   "metadata": {},
   "outputs": [
    {
     "name": "stdout",
     "output_type": "stream",
     "text": [
      "[19.0, 23.75, 33.25, 38.0, 42.75, 66.5]\n"
     ]
    }
   ],
   "source": [
    "lc_new_prices = [(price - (price * 0.05)) for price in prices]\n",
    "print(lc_new_prices)"
   ]
  },
  {
   "cell_type": "markdown",
   "id": "f0cb6d24-9de9-499f-9f4c-b761656beb2f",
   "metadata": {},
   "source": [
    "Just two lines of code is able to accomplish exactly the same thing in List Comprehension! Isn't that amazing?\n",
    "\n",
    "This is the reason it is advisible to avoid using traditional `for loops` as much as possible.\n"
   ]
  },
  {
   "cell_type": "markdown",
   "id": "07f87f0f-f43e-4194-a681-5034dc77bce3",
   "metadata": {},
   "source": [
    "There are times though when it is advisable to use the traditional for loops instead of the list comprehension. One such scenario could be when there is a need for a nested for loop. Things can get pretty complicated when you try to use list comprehension for this. \n"
   ]
  },
  {
   "cell_type": "markdown",
   "id": "3d7bf7ae-4f50-4108-b629-25006b58fca0",
   "metadata": {},
   "source": [
    "The general syntax for list comprehension can be as follows:\n",
    "\n",
    "- Everything is in square brackets, []\n",
    "- inside the square brackets, the first expression is the returned value\n",
    "- Then followed by the expression `for variable in list`\n",
    "    - Where `variable` can be named anything and `list` can be any list name variable.\n"
   ]
  },
  {
   "cell_type": "markdown",
   "id": "dc877f8e-2cab-4f79-a0d2-76ca45bc6763",
   "metadata": {},
   "source": [
    "### Runtime Efficiency "
   ]
  },
  {
   "cell_type": "markdown",
   "id": "deb97eeb-6821-432d-9200-eee1fa8c4eaf",
   "metadata": {},
   "source": [
    "Now, we will check the efficiency of these two methods by running them in a function.\n",
    "\n",
    "I will name the function, `loop_efficiency1` and `loop_efficiency2` to compare their runtimes."
   ]
  },
  {
   "cell_type": "code",
   "execution_count": 4,
   "id": "600a129e-d109-4f8d-83af-6843c2828283",
   "metadata": {},
   "outputs": [],
   "source": [
    "def loop_efficiency1(list):\n",
    "    new_prices = []\n",
    "\n",
    "    for price in list:\n",
    "        discount = 0.05 * price # 5% discount\n",
    "        price -= discount\n",
    "        new_prices.append(price)\n",
    "\n",
    "    return new_prices"
   ]
  },
  {
   "cell_type": "markdown",
   "id": "8c319ebd-f14e-42c1-a50d-b8bd117cd19c",
   "metadata": {},
   "source": [
    "Now that we implemented the first logic in a function, let's run the function to make sure that we are getting the same results."
   ]
  },
  {
   "cell_type": "code",
   "execution_count": 5,
   "id": "0df6488c-00e2-4c2b-8fa4-c7a095bc5887",
   "metadata": {},
   "outputs": [
    {
     "data": {
      "text/plain": [
       "[19.0, 23.75, 33.25, 38.0, 42.75, 66.5]"
      ]
     },
     "execution_count": 5,
     "metadata": {},
     "output_type": "execute_result"
    }
   ],
   "source": [
    "loop_efficiency1(prices)"
   ]
  },
  {
   "cell_type": "markdown",
   "id": "a6833cb9-0121-4f0e-bbc6-55dab42b8375",
   "metadata": {},
   "source": [
    "Let's do the same for the list comprehension logic using the function named `loop_efficiency2`"
   ]
  },
  {
   "cell_type": "code",
   "execution_count": 6,
   "id": "c190ad28-7b10-475b-9949-f543dee12c3f",
   "metadata": {},
   "outputs": [],
   "source": [
    "def loop_efficiency2(list):\n",
    "    lc_new_prices = [(price - (price * 0.05)) for price in list]\n",
    "    return lc_new_prices"
   ]
  },
  {
   "cell_type": "markdown",
   "id": "d6aa55f3-d215-4eae-b5cd-ea0d79d29200",
   "metadata": {},
   "source": [
    "Again, lets test it on the `prices` list to make sure we are getting the same results."
   ]
  },
  {
   "cell_type": "code",
   "execution_count": 7,
   "id": "e13f2fc8-228c-49b3-905d-26d2c67894cc",
   "metadata": {},
   "outputs": [
    {
     "data": {
      "text/plain": [
       "[19.0, 23.75, 33.25, 38.0, 42.75, 66.5]"
      ]
     },
     "execution_count": 7,
     "metadata": {},
     "output_type": "execute_result"
    }
   ],
   "source": [
    "loop_efficiency2(prices)"
   ]
  },
  {
   "cell_type": "markdown",
   "id": "c3032a63-196a-4a3f-8597-0c677fbb86e4",
   "metadata": {},
   "source": [
    "Great! Both functions work perfectly. We will now test their runtime efficiency"
   ]
  },
  {
   "cell_type": "code",
   "execution_count": 8,
   "id": "6be5c934-53c6-4b10-a0f4-b2d46a761162",
   "metadata": {},
   "outputs": [
    {
     "name": "stdout",
     "output_type": "stream",
     "text": [
      "3.69 µs ± 1.37 µs per loop (mean ± std. dev. of 7 runs, 100000 loops each)\n"
     ]
    }
   ],
   "source": [
    "%timeit loop_efficiency1(prices)"
   ]
  },
  {
   "cell_type": "code",
   "execution_count": 9,
   "id": "fd6d5ac4-7280-45a1-933f-8f1acba7bb0d",
   "metadata": {},
   "outputs": [
    {
     "name": "stdout",
     "output_type": "stream",
     "text": [
      "3.29 µs ± 762 ns per loop (mean ± std. dev. of 7 runs, 100000 loops each)\n"
     ]
    }
   ],
   "source": [
    "%timeit loop_efficiency2(prices)"
   ]
  },
  {
   "cell_type": "markdown",
   "id": "c7e7cd29-d745-44cd-b5f8-9078a5b0df15",
   "metadata": {},
   "source": [
    "The time it wook for the traditional loop to run is 3.69 micro seconds while the list comprehension only took 3.29 micro seconds!"
   ]
  },
  {
   "cell_type": "markdown",
   "id": "c18dfaa6-7cd0-4bfd-b92b-0f7bd4f0f6d5",
   "metadata": {},
   "source": [
    "Though slightly minimal difference in this case, but the latter still outperforms the former on that front as well.\n"
   ]
  },
  {
   "cell_type": "markdown",
   "id": "66e8bc96-b4c5-4560-a638-db6396302d03",
   "metadata": {},
   "source": [
    "### Final Thought"
   ]
  },
  {
   "cell_type": "markdown",
   "id": "988b49cb-2449-48a6-9366-f781d5782375",
   "metadata": {},
   "source": [
    "Avoid using traditional loops as much as possible and only use them when it is absolutely necessary."
   ]
  },
  {
   "cell_type": "code",
   "execution_count": null,
   "id": "79075c6c-4508-4b04-8f1a-e2c96a4889c4",
   "metadata": {},
   "outputs": [],
   "source": []
  }
 ],
 "metadata": {
  "kernelspec": {
   "display_name": "Python 3 (ipykernel)",
   "language": "python",
   "name": "python3"
  },
  "language_info": {
   "codemirror_mode": {
    "name": "ipython",
    "version": 3
   },
   "file_extension": ".py",
   "mimetype": "text/x-python",
   "name": "python",
   "nbconvert_exporter": "python",
   "pygments_lexer": "ipython3",
   "version": "3.9.7"
  }
 },
 "nbformat": 4,
 "nbformat_minor": 5
}
