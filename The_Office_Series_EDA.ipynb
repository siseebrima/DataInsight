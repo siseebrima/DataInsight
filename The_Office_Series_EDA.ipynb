{
 "cells": [
  {
   "cell_type": "markdown",
   "id": "25f5f898-9f89-46b5-a884-58ccec4342f2",
   "metadata": {},
   "source": [
    "# EDA For the Office"
   ]
  },
  {
   "cell_type": "markdown",
   "id": "ce891a49-dd9b-4e6a-a23e-93b7a35f9f6d",
   "metadata": {},
   "source": [
    "In this project, we will take a look at a dataset of The Office episodes, and try to\n",
    "understand how the popularity and quality of the series varied over time. "
   ]
  },
  {
   "cell_type": "markdown",
   "id": "095f962b-0a97-48ef-a448-031369b84249",
   "metadata": {},
   "source": [
    "It is worth knowing that the dataset was downloaded from kaggle."
   ]
  },
  {
   "cell_type": "markdown",
   "id": "7069a0ea-4de9-455b-8542-30de20c41c5e",
   "metadata": {},
   "source": [
    "First off, we will need to import the necessary packages and libraries to help us with our data exploration. And the following in the below cell are crucial!"
   ]
  },
  {
   "cell_type": "code",
   "execution_count": 23,
   "id": "01004dbe-95be-4583-94b0-cf5bbd746a25",
   "metadata": {},
   "outputs": [],
   "source": [
    "import pandas as pd\n",
    "import matplotlib.pyplot as plt\n",
    "import numpy as np\n",
    "import seaborn as sns"
   ]
  },
  {
   "cell_type": "markdown",
   "id": "74c265ab-715e-4486-853e-d0ceb7166adb",
   "metadata": {},
   "source": [
    "The dataset is stored in a CSV file in the root of our project. It's called 'the_office_series.csv'. We will now import it in a pandas DataFrame called `df`."
   ]
  },
  {
   "cell_type": "code",
   "execution_count": 24,
   "id": "0e3cfe2e-e281-4e7c-b09c-1cead190ae0c",
   "metadata": {},
   "outputs": [],
   "source": [
    "df = pd.read_csv('the_office_series.csv')"
   ]
  },
  {
   "cell_type": "markdown",
   "id": "66ffb2d7-0d64-41ae-9c1a-1b85ff0cb729",
   "metadata": {},
   "source": [
    "It is always a good practice to have a sneak peek at the first few rows of the dataframe after loading. We will use the head() to accomplish this."
   ]
  },
  {
   "cell_type": "code",
   "execution_count": 25,
   "id": "3d30c1f3-9450-4a28-ae4d-629d650752d4",
   "metadata": {},
   "outputs": [
    {
     "data": {
      "text/html": [
       "<div>\n",
       "<style scoped>\n",
       "    .dataframe tbody tr th:only-of-type {\n",
       "        vertical-align: middle;\n",
       "    }\n",
       "\n",
       "    .dataframe tbody tr th {\n",
       "        vertical-align: top;\n",
       "    }\n",
       "\n",
       "    .dataframe thead th {\n",
       "        text-align: right;\n",
       "    }\n",
       "</style>\n",
       "<table border=\"1\" class=\"dataframe\">\n",
       "  <thead>\n",
       "    <tr style=\"text-align: right;\">\n",
       "      <th></th>\n",
       "      <th>Unnamed: 0</th>\n",
       "      <th>Season</th>\n",
       "      <th>EpisodeTitle</th>\n",
       "      <th>About</th>\n",
       "      <th>Ratings</th>\n",
       "      <th>Votes</th>\n",
       "      <th>Viewership</th>\n",
       "      <th>Duration</th>\n",
       "      <th>Date</th>\n",
       "      <th>GuestStars</th>\n",
       "      <th>Director</th>\n",
       "      <th>Writers</th>\n",
       "    </tr>\n",
       "  </thead>\n",
       "  <tbody>\n",
       "    <tr>\n",
       "      <th>0</th>\n",
       "      <td>0</td>\n",
       "      <td>1</td>\n",
       "      <td>Pilot</td>\n",
       "      <td>The premiere episode introduces the boss and s...</td>\n",
       "      <td>7.5</td>\n",
       "      <td>4936</td>\n",
       "      <td>11.2</td>\n",
       "      <td>23</td>\n",
       "      <td>24 March 2005</td>\n",
       "      <td>NaN</td>\n",
       "      <td>Ken Kwapis</td>\n",
       "      <td>Ricky Gervais |Stephen Merchant and Greg Daniels</td>\n",
       "    </tr>\n",
       "    <tr>\n",
       "      <th>1</th>\n",
       "      <td>1</td>\n",
       "      <td>1</td>\n",
       "      <td>Diversity Day</td>\n",
       "      <td>Michael's off color remark puts a sensitivity ...</td>\n",
       "      <td>8.3</td>\n",
       "      <td>4801</td>\n",
       "      <td>6.0</td>\n",
       "      <td>23</td>\n",
       "      <td>29 March 2005</td>\n",
       "      <td>NaN</td>\n",
       "      <td>Ken Kwapis</td>\n",
       "      <td>B. J. Novak</td>\n",
       "    </tr>\n",
       "    <tr>\n",
       "      <th>2</th>\n",
       "      <td>2</td>\n",
       "      <td>1</td>\n",
       "      <td>Health Care</td>\n",
       "      <td>Michael leaves Dwight in charge of picking the...</td>\n",
       "      <td>7.8</td>\n",
       "      <td>4024</td>\n",
       "      <td>5.8</td>\n",
       "      <td>22</td>\n",
       "      <td>5 April 2005</td>\n",
       "      <td>NaN</td>\n",
       "      <td>Ken Whittingham</td>\n",
       "      <td>Paul Lieberstein</td>\n",
       "    </tr>\n",
       "    <tr>\n",
       "      <th>3</th>\n",
       "      <td>3</td>\n",
       "      <td>1</td>\n",
       "      <td>The Alliance</td>\n",
       "      <td>Just for a laugh, Jim agrees to an alliance wi...</td>\n",
       "      <td>8.1</td>\n",
       "      <td>3915</td>\n",
       "      <td>5.4</td>\n",
       "      <td>23</td>\n",
       "      <td>12 April 2005</td>\n",
       "      <td>NaN</td>\n",
       "      <td>Bryan Gordon</td>\n",
       "      <td>Michael Schur</td>\n",
       "    </tr>\n",
       "    <tr>\n",
       "      <th>4</th>\n",
       "      <td>4</td>\n",
       "      <td>1</td>\n",
       "      <td>Basketball</td>\n",
       "      <td>Michael and his staff challenge the warehouse ...</td>\n",
       "      <td>8.4</td>\n",
       "      <td>4294</td>\n",
       "      <td>5.0</td>\n",
       "      <td>23</td>\n",
       "      <td>19 April 2005</td>\n",
       "      <td>NaN</td>\n",
       "      <td>Greg Daniels</td>\n",
       "      <td>Greg Daniels</td>\n",
       "    </tr>\n",
       "  </tbody>\n",
       "</table>\n",
       "</div>"
      ],
      "text/plain": [
       "   Unnamed: 0  Season   EpisodeTitle  \\\n",
       "0           0       1          Pilot   \n",
       "1           1       1  Diversity Day   \n",
       "2           2       1    Health Care   \n",
       "3           3       1   The Alliance   \n",
       "4           4       1     Basketball   \n",
       "\n",
       "                                               About  Ratings  Votes  \\\n",
       "0  The premiere episode introduces the boss and s...      7.5   4936   \n",
       "1  Michael's off color remark puts a sensitivity ...      8.3   4801   \n",
       "2  Michael leaves Dwight in charge of picking the...      7.8   4024   \n",
       "3  Just for a laugh, Jim agrees to an alliance wi...      8.1   3915   \n",
       "4  Michael and his staff challenge the warehouse ...      8.4   4294   \n",
       "\n",
       "   Viewership  Duration            Date GuestStars         Director  \\\n",
       "0        11.2        23   24 March 2005        NaN       Ken Kwapis   \n",
       "1         6.0        23   29 March 2005        NaN       Ken Kwapis   \n",
       "2         5.8        22    5 April 2005        NaN  Ken Whittingham   \n",
       "3         5.4        23   12 April 2005        NaN     Bryan Gordon   \n",
       "4         5.0        23   19 April 2005        NaN     Greg Daniels   \n",
       "\n",
       "                                            Writers  \n",
       "0  Ricky Gervais |Stephen Merchant and Greg Daniels  \n",
       "1                                       B. J. Novak  \n",
       "2                                  Paul Lieberstein  \n",
       "3                                     Michael Schur  \n",
       "4                                      Greg Daniels  "
      ]
     },
     "execution_count": 25,
     "metadata": {},
     "output_type": "execute_result"
    }
   ],
   "source": [
    "df.head()"
   ]
  },
  {
   "cell_type": "markdown",
   "id": "cbec4744-b23f-4749-a39d-2468a1594872",
   "metadata": {},
   "source": [
    "The first part of our work is to clean the DataFrame and make it suitable for analysis."
   ]
  },
  {
   "cell_type": "markdown",
   "id": "25693935-43a0-474a-a7df-26c653bedd04",
   "metadata": {},
   "source": [
    "From a first galance, we could see a few things of interest.\n",
    "- A column named 'Unnamed: 0'\n",
    "- NaN values in the `GuestStars` column"
   ]
  },
  {
   "cell_type": "markdown",
   "id": "8d149066-ea2e-4bff-8154-c154999aa095",
   "metadata": {},
   "source": [
    "But before we deal with this, let's first look at the columns we have in the dataframe."
   ]
  },
  {
   "cell_type": "code",
   "execution_count": 26,
   "id": "0b23b952-8f7f-4c5b-9381-45f72cb06093",
   "metadata": {},
   "outputs": [
    {
     "data": {
      "text/plain": [
       "Index(['Unnamed: 0', 'Season', 'EpisodeTitle', 'About', 'Ratings', 'Votes',\n",
       "       'Viewership', 'Duration', 'Date', 'GuestStars', 'Director', 'Writers'],\n",
       "      dtype='object')"
      ]
     },
     "execution_count": 26,
     "metadata": {},
     "output_type": "execute_result"
    }
   ],
   "source": [
    "df.columns"
   ]
  },
  {
   "cell_type": "markdown",
   "id": "d8c34c33-d6b6-49a7-ae4e-bfb4b0550e99",
   "metadata": {},
   "source": [
    "From the first few rows of the dataframe, we see that column `Unnamed: 0` is kind of useless as it has the same values as the as the index.\n",
    "In that case, it is best to drop that column."
   ]
  },
  {
   "cell_type": "code",
   "execution_count": 27,
   "id": "2961490d-90c7-468e-878b-7b6fba931a11",
   "metadata": {},
   "outputs": [],
   "source": [
    "df.drop(columns='Unnamed: 0', inplace=True)"
   ]
  },
  {
   "cell_type": "markdown",
   "id": "7df2eeb5-3c30-45f8-b338-9af5c91e859b",
   "metadata": {},
   "source": [
    "We also listed above that the column `GuestStars` has `NaN` values. The questions now are: \n",
    "- Are those five rows the only missing values or are there more?\n",
    "- Are there any other fields with missing data?\n",
    "- Is there enough missing data in a column to warrant it to be dropped?\n",
    "\n",
    "Well, the below cell will give us an insight into this and give us the necessary answers."
   ]
  },
  {
   "cell_type": "code",
   "execution_count": 28,
   "id": "c44d860c-c76e-4c30-9a4e-78286f58949f",
   "metadata": {},
   "outputs": [
    {
     "data": {
      "text/plain": [
       "Season            0\n",
       "EpisodeTitle      0\n",
       "About             0\n",
       "Ratings           0\n",
       "Votes             0\n",
       "Viewership        0\n",
       "Duration          0\n",
       "Date              0\n",
       "GuestStars      159\n",
       "Director          0\n",
       "Writers           0\n",
       "dtype: int64"
      ]
     },
     "execution_count": 28,
     "metadata": {},
     "output_type": "execute_result"
    }
   ],
   "source": [
    "df.isnull().sum()"
   ]
  },
  {
   "cell_type": "markdown",
   "id": "77b08782-1d0d-4143-8791-7328ff6b7efe",
   "metadata": {},
   "source": [
    "The good news is, only one column in the dataframe has missing values. But that column has about 85% of its data missing.\n",
    "Standard practice recommends that a field needs to be dropped if 75% or more of its data is missing.\n",
    "\n",
    "So we will drop this column!"
   ]
  },
  {
   "cell_type": "code",
   "execution_count": 29,
   "id": "2491b7bd-c425-47e4-8141-3aa4f7e04094",
   "metadata": {},
   "outputs": [],
   "source": [
    "df.drop(columns='GuestStars', inplace=True)"
   ]
  },
  {
   "cell_type": "code",
   "execution_count": 30,
   "id": "40d088d9-5f0e-408f-ac4d-00f27eb10eaf",
   "metadata": {},
   "outputs": [
    {
     "data": {
      "text/plain": [
       "(188, 10)"
      ]
     },
     "execution_count": 30,
     "metadata": {},
     "output_type": "execute_result"
    }
   ],
   "source": [
    "df.shape"
   ]
  },
  {
   "cell_type": "markdown",
   "id": "0b2d5d4e-ccbb-47f5-b6e0-5ded81c0b728",
   "metadata": {},
   "source": [
    "Our dataframe now has 188 observations and 10 fields."
   ]
  },
  {
   "cell_type": "markdown",
   "id": "64af93a9-4c78-4e8f-9492-026d0f09bb11",
   "metadata": {},
   "source": [
    "Another important thing we normally do is to check the general information of the dataframe. The `info` method comes in handy here."
   ]
  },
  {
   "cell_type": "code",
   "execution_count": 31,
   "id": "c81a9736-0fb7-4c4f-839c-2a591e1a7b97",
   "metadata": {},
   "outputs": [
    {
     "name": "stdout",
     "output_type": "stream",
     "text": [
      "<class 'pandas.core.frame.DataFrame'>\n",
      "RangeIndex: 188 entries, 0 to 187\n",
      "Data columns (total 10 columns):\n",
      " #   Column        Non-Null Count  Dtype  \n",
      "---  ------        --------------  -----  \n",
      " 0   Season        188 non-null    int64  \n",
      " 1   EpisodeTitle  188 non-null    object \n",
      " 2   About         188 non-null    object \n",
      " 3   Ratings       188 non-null    float64\n",
      " 4   Votes         188 non-null    int64  \n",
      " 5   Viewership    188 non-null    float64\n",
      " 6   Duration      188 non-null    int64  \n",
      " 7   Date          188 non-null    object \n",
      " 8   Director      188 non-null    object \n",
      " 9   Writers       188 non-null    object \n",
      "dtypes: float64(2), int64(3), object(5)\n",
      "memory usage: 14.8+ KB\n"
     ]
    }
   ],
   "source": [
    "df.info()"
   ]
  },
  {
   "cell_type": "markdown",
   "id": "ea6e915b-0496-466e-ab3a-a0e6d778ccf0",
   "metadata": {},
   "source": [
    "From the output above, it's note worthy to double check the `Date` field. Its data type is `object` even though the values are in a date format.\n",
    "\n",
    "Since we want to understand how the popularity and quality of the series varied over time, it will be better to have this field converted to datetime. And that is waht we are doing next."
   ]
  },
  {
   "cell_type": "code",
   "execution_count": 32,
   "id": "87677ca4-098d-4109-9334-11f9ff7806c9",
   "metadata": {},
   "outputs": [],
   "source": [
    "df['Date'] = pd.to_datetime(df['Date'])"
   ]
  },
  {
   "cell_type": "markdown",
   "id": "516aab2c-fe83-4d44-844b-7050a3a16dfa",
   "metadata": {},
   "source": [
    "Let's have another look at the head of the dataframe."
   ]
  },
  {
   "cell_type": "code",
   "execution_count": 33,
   "id": "2f46d3f1-5f78-4835-95a2-4cdc5f00977c",
   "metadata": {},
   "outputs": [
    {
     "data": {
      "text/html": [
       "<div>\n",
       "<style scoped>\n",
       "    .dataframe tbody tr th:only-of-type {\n",
       "        vertical-align: middle;\n",
       "    }\n",
       "\n",
       "    .dataframe tbody tr th {\n",
       "        vertical-align: top;\n",
       "    }\n",
       "\n",
       "    .dataframe thead th {\n",
       "        text-align: right;\n",
       "    }\n",
       "</style>\n",
       "<table border=\"1\" class=\"dataframe\">\n",
       "  <thead>\n",
       "    <tr style=\"text-align: right;\">\n",
       "      <th></th>\n",
       "      <th>Season</th>\n",
       "      <th>EpisodeTitle</th>\n",
       "      <th>About</th>\n",
       "      <th>Ratings</th>\n",
       "      <th>Votes</th>\n",
       "      <th>Viewership</th>\n",
       "      <th>Duration</th>\n",
       "      <th>Date</th>\n",
       "      <th>Director</th>\n",
       "      <th>Writers</th>\n",
       "    </tr>\n",
       "  </thead>\n",
       "  <tbody>\n",
       "    <tr>\n",
       "      <th>0</th>\n",
       "      <td>1</td>\n",
       "      <td>Pilot</td>\n",
       "      <td>The premiere episode introduces the boss and s...</td>\n",
       "      <td>7.5</td>\n",
       "      <td>4936</td>\n",
       "      <td>11.2</td>\n",
       "      <td>23</td>\n",
       "      <td>2005-03-24</td>\n",
       "      <td>Ken Kwapis</td>\n",
       "      <td>Ricky Gervais |Stephen Merchant and Greg Daniels</td>\n",
       "    </tr>\n",
       "    <tr>\n",
       "      <th>1</th>\n",
       "      <td>1</td>\n",
       "      <td>Diversity Day</td>\n",
       "      <td>Michael's off color remark puts a sensitivity ...</td>\n",
       "      <td>8.3</td>\n",
       "      <td>4801</td>\n",
       "      <td>6.0</td>\n",
       "      <td>23</td>\n",
       "      <td>2005-03-29</td>\n",
       "      <td>Ken Kwapis</td>\n",
       "      <td>B. J. Novak</td>\n",
       "    </tr>\n",
       "    <tr>\n",
       "      <th>2</th>\n",
       "      <td>1</td>\n",
       "      <td>Health Care</td>\n",
       "      <td>Michael leaves Dwight in charge of picking the...</td>\n",
       "      <td>7.8</td>\n",
       "      <td>4024</td>\n",
       "      <td>5.8</td>\n",
       "      <td>22</td>\n",
       "      <td>2005-04-05</td>\n",
       "      <td>Ken Whittingham</td>\n",
       "      <td>Paul Lieberstein</td>\n",
       "    </tr>\n",
       "    <tr>\n",
       "      <th>3</th>\n",
       "      <td>1</td>\n",
       "      <td>The Alliance</td>\n",
       "      <td>Just for a laugh, Jim agrees to an alliance wi...</td>\n",
       "      <td>8.1</td>\n",
       "      <td>3915</td>\n",
       "      <td>5.4</td>\n",
       "      <td>23</td>\n",
       "      <td>2005-04-12</td>\n",
       "      <td>Bryan Gordon</td>\n",
       "      <td>Michael Schur</td>\n",
       "    </tr>\n",
       "    <tr>\n",
       "      <th>4</th>\n",
       "      <td>1</td>\n",
       "      <td>Basketball</td>\n",
       "      <td>Michael and his staff challenge the warehouse ...</td>\n",
       "      <td>8.4</td>\n",
       "      <td>4294</td>\n",
       "      <td>5.0</td>\n",
       "      <td>23</td>\n",
       "      <td>2005-04-19</td>\n",
       "      <td>Greg Daniels</td>\n",
       "      <td>Greg Daniels</td>\n",
       "    </tr>\n",
       "  </tbody>\n",
       "</table>\n",
       "</div>"
      ],
      "text/plain": [
       "   Season   EpisodeTitle                                              About  \\\n",
       "0       1          Pilot  The premiere episode introduces the boss and s...   \n",
       "1       1  Diversity Day  Michael's off color remark puts a sensitivity ...   \n",
       "2       1    Health Care  Michael leaves Dwight in charge of picking the...   \n",
       "3       1   The Alliance  Just for a laugh, Jim agrees to an alliance wi...   \n",
       "4       1     Basketball  Michael and his staff challenge the warehouse ...   \n",
       "\n",
       "   Ratings  Votes  Viewership  Duration       Date         Director  \\\n",
       "0      7.5   4936        11.2        23 2005-03-24       Ken Kwapis   \n",
       "1      8.3   4801         6.0        23 2005-03-29       Ken Kwapis   \n",
       "2      7.8   4024         5.8        22 2005-04-05  Ken Whittingham   \n",
       "3      8.1   3915         5.4        23 2005-04-12     Bryan Gordon   \n",
       "4      8.4   4294         5.0        23 2005-04-19     Greg Daniels   \n",
       "\n",
       "                                            Writers  \n",
       "0  Ricky Gervais |Stephen Merchant and Greg Daniels  \n",
       "1                                       B. J. Novak  \n",
       "2                                  Paul Lieberstein  \n",
       "3                                     Michael Schur  \n",
       "4                                      Greg Daniels  "
      ]
     },
     "execution_count": 33,
     "metadata": {},
     "output_type": "execute_result"
    }
   ],
   "source": [
    "df.head()"
   ]
  },
  {
   "cell_type": "markdown",
   "id": "d91321b9-2e9b-4549-bd90-e9bf461d949a",
   "metadata": {},
   "source": [
    "The fact that we are interested in the variation of popularity and quality over time, making the dataframe a timeseries is suitable. So we will set the index to the `Date` column."
   ]
  },
  {
   "cell_type": "code",
   "execution_count": 34,
   "id": "3085e200-3ca1-4e81-994c-1504b58c5713",
   "metadata": {},
   "outputs": [],
   "source": [
    "df.set_index('Date', inplace=True)"
   ]
  },
  {
   "cell_type": "markdown",
   "id": "2553fcb0-f7f0-4cc4-a730-0f898f243ad2",
   "metadata": {},
   "source": [
    "Again, we will take another look at the modified dataframe."
   ]
  },
  {
   "cell_type": "code",
   "execution_count": 35,
   "id": "99b6d0c6-79d9-470c-ad6b-122e9d6f2e78",
   "metadata": {},
   "outputs": [
    {
     "data": {
      "text/html": [
       "<div>\n",
       "<style scoped>\n",
       "    .dataframe tbody tr th:only-of-type {\n",
       "        vertical-align: middle;\n",
       "    }\n",
       "\n",
       "    .dataframe tbody tr th {\n",
       "        vertical-align: top;\n",
       "    }\n",
       "\n",
       "    .dataframe thead th {\n",
       "        text-align: right;\n",
       "    }\n",
       "</style>\n",
       "<table border=\"1\" class=\"dataframe\">\n",
       "  <thead>\n",
       "    <tr style=\"text-align: right;\">\n",
       "      <th></th>\n",
       "      <th>Season</th>\n",
       "      <th>EpisodeTitle</th>\n",
       "      <th>About</th>\n",
       "      <th>Ratings</th>\n",
       "      <th>Votes</th>\n",
       "      <th>Viewership</th>\n",
       "      <th>Duration</th>\n",
       "      <th>Director</th>\n",
       "      <th>Writers</th>\n",
       "    </tr>\n",
       "    <tr>\n",
       "      <th>Date</th>\n",
       "      <th></th>\n",
       "      <th></th>\n",
       "      <th></th>\n",
       "      <th></th>\n",
       "      <th></th>\n",
       "      <th></th>\n",
       "      <th></th>\n",
       "      <th></th>\n",
       "      <th></th>\n",
       "    </tr>\n",
       "  </thead>\n",
       "  <tbody>\n",
       "    <tr>\n",
       "      <th>2005-03-24</th>\n",
       "      <td>1</td>\n",
       "      <td>Pilot</td>\n",
       "      <td>The premiere episode introduces the boss and s...</td>\n",
       "      <td>7.5</td>\n",
       "      <td>4936</td>\n",
       "      <td>11.2</td>\n",
       "      <td>23</td>\n",
       "      <td>Ken Kwapis</td>\n",
       "      <td>Ricky Gervais |Stephen Merchant and Greg Daniels</td>\n",
       "    </tr>\n",
       "    <tr>\n",
       "      <th>2005-03-29</th>\n",
       "      <td>1</td>\n",
       "      <td>Diversity Day</td>\n",
       "      <td>Michael's off color remark puts a sensitivity ...</td>\n",
       "      <td>8.3</td>\n",
       "      <td>4801</td>\n",
       "      <td>6.0</td>\n",
       "      <td>23</td>\n",
       "      <td>Ken Kwapis</td>\n",
       "      <td>B. J. Novak</td>\n",
       "    </tr>\n",
       "    <tr>\n",
       "      <th>2005-04-05</th>\n",
       "      <td>1</td>\n",
       "      <td>Health Care</td>\n",
       "      <td>Michael leaves Dwight in charge of picking the...</td>\n",
       "      <td>7.8</td>\n",
       "      <td>4024</td>\n",
       "      <td>5.8</td>\n",
       "      <td>22</td>\n",
       "      <td>Ken Whittingham</td>\n",
       "      <td>Paul Lieberstein</td>\n",
       "    </tr>\n",
       "    <tr>\n",
       "      <th>2005-04-12</th>\n",
       "      <td>1</td>\n",
       "      <td>The Alliance</td>\n",
       "      <td>Just for a laugh, Jim agrees to an alliance wi...</td>\n",
       "      <td>8.1</td>\n",
       "      <td>3915</td>\n",
       "      <td>5.4</td>\n",
       "      <td>23</td>\n",
       "      <td>Bryan Gordon</td>\n",
       "      <td>Michael Schur</td>\n",
       "    </tr>\n",
       "    <tr>\n",
       "      <th>2005-04-19</th>\n",
       "      <td>1</td>\n",
       "      <td>Basketball</td>\n",
       "      <td>Michael and his staff challenge the warehouse ...</td>\n",
       "      <td>8.4</td>\n",
       "      <td>4294</td>\n",
       "      <td>5.0</td>\n",
       "      <td>23</td>\n",
       "      <td>Greg Daniels</td>\n",
       "      <td>Greg Daniels</td>\n",
       "    </tr>\n",
       "  </tbody>\n",
       "</table>\n",
       "</div>"
      ],
      "text/plain": [
       "            Season   EpisodeTitle  \\\n",
       "Date                                \n",
       "2005-03-24       1          Pilot   \n",
       "2005-03-29       1  Diversity Day   \n",
       "2005-04-05       1    Health Care   \n",
       "2005-04-12       1   The Alliance   \n",
       "2005-04-19       1     Basketball   \n",
       "\n",
       "                                                        About  Ratings  Votes  \\\n",
       "Date                                                                            \n",
       "2005-03-24  The premiere episode introduces the boss and s...      7.5   4936   \n",
       "2005-03-29  Michael's off color remark puts a sensitivity ...      8.3   4801   \n",
       "2005-04-05  Michael leaves Dwight in charge of picking the...      7.8   4024   \n",
       "2005-04-12  Just for a laugh, Jim agrees to an alliance wi...      8.1   3915   \n",
       "2005-04-19  Michael and his staff challenge the warehouse ...      8.4   4294   \n",
       "\n",
       "            Viewership  Duration         Director  \\\n",
       "Date                                                \n",
       "2005-03-24        11.2        23       Ken Kwapis   \n",
       "2005-03-29         6.0        23       Ken Kwapis   \n",
       "2005-04-05         5.8        22  Ken Whittingham   \n",
       "2005-04-12         5.4        23     Bryan Gordon   \n",
       "2005-04-19         5.0        23     Greg Daniels   \n",
       "\n",
       "                                                     Writers  \n",
       "Date                                                          \n",
       "2005-03-24  Ricky Gervais |Stephen Merchant and Greg Daniels  \n",
       "2005-03-29                                       B. J. Novak  \n",
       "2005-04-05                                  Paul Lieberstein  \n",
       "2005-04-12                                     Michael Schur  \n",
       "2005-04-19                                      Greg Daniels  "
      ]
     },
     "execution_count": 35,
     "metadata": {},
     "output_type": "execute_result"
    }
   ],
   "source": [
    "df.head()"
   ]
  },
  {
   "cell_type": "markdown",
   "id": "869feb08-1e89-4588-b1e7-5efc0fc47158",
   "metadata": {},
   "source": [
    "## Exploratory Data Analysis"
   ]
  },
  {
   "cell_type": "markdown",
   "id": "3d0cb3a9-a1ca-4308-a9f9-4777e300af07",
   "metadata": {},
   "source": [
    "Now that we are done with the data cleaning phase, it's time to do some exploration to infer some insights and answer the ultimate question of the project.\n",
    "But we will start by looking at the summary statistics of the numerical fields of the dataframe."
   ]
  },
  {
   "cell_type": "code",
   "execution_count": 37,
   "id": "d8f9cbf7-7365-4271-9de1-3c5e87557723",
   "metadata": {},
   "outputs": [
    {
     "data": {
      "text/html": [
       "<div>\n",
       "<style scoped>\n",
       "    .dataframe tbody tr th:only-of-type {\n",
       "        vertical-align: middle;\n",
       "    }\n",
       "\n",
       "    .dataframe tbody tr th {\n",
       "        vertical-align: top;\n",
       "    }\n",
       "\n",
       "    .dataframe thead th {\n",
       "        text-align: right;\n",
       "    }\n",
       "</style>\n",
       "<table border=\"1\" class=\"dataframe\">\n",
       "  <thead>\n",
       "    <tr style=\"text-align: right;\">\n",
       "      <th></th>\n",
       "      <th>Season</th>\n",
       "      <th>Ratings</th>\n",
       "      <th>Votes</th>\n",
       "      <th>Viewership</th>\n",
       "      <th>Duration</th>\n",
       "    </tr>\n",
       "  </thead>\n",
       "  <tbody>\n",
       "    <tr>\n",
       "      <th>count</th>\n",
       "      <td>188.000000</td>\n",
       "      <td>188.000000</td>\n",
       "      <td>188.000000</td>\n",
       "      <td>188.000000</td>\n",
       "      <td>188.000000</td>\n",
       "    </tr>\n",
       "    <tr>\n",
       "      <th>mean</th>\n",
       "      <td>5.468085</td>\n",
       "      <td>8.237234</td>\n",
       "      <td>2838.228723</td>\n",
       "      <td>7.246330</td>\n",
       "      <td>27.053191</td>\n",
       "    </tr>\n",
       "    <tr>\n",
       "      <th>std</th>\n",
       "      <td>2.386245</td>\n",
       "      <td>0.589930</td>\n",
       "      <td>1063.165290</td>\n",
       "      <td>2.066012</td>\n",
       "      <td>6.937254</td>\n",
       "    </tr>\n",
       "    <tr>\n",
       "      <th>min</th>\n",
       "      <td>1.000000</td>\n",
       "      <td>6.600000</td>\n",
       "      <td>1832.000000</td>\n",
       "      <td>3.250000</td>\n",
       "      <td>19.000000</td>\n",
       "    </tr>\n",
       "    <tr>\n",
       "      <th>25%</th>\n",
       "      <td>3.000000</td>\n",
       "      <td>7.800000</td>\n",
       "      <td>2187.750000</td>\n",
       "      <td>5.990000</td>\n",
       "      <td>22.000000</td>\n",
       "    </tr>\n",
       "    <tr>\n",
       "      <th>50%</th>\n",
       "      <td>6.000000</td>\n",
       "      <td>8.200000</td>\n",
       "      <td>2614.000000</td>\n",
       "      <td>7.535000</td>\n",
       "      <td>23.000000</td>\n",
       "    </tr>\n",
       "    <tr>\n",
       "      <th>75%</th>\n",
       "      <td>7.250000</td>\n",
       "      <td>8.600000</td>\n",
       "      <td>3144.250000</td>\n",
       "      <td>8.425000</td>\n",
       "      <td>30.000000</td>\n",
       "    </tr>\n",
       "    <tr>\n",
       "      <th>max</th>\n",
       "      <td>9.000000</td>\n",
       "      <td>9.800000</td>\n",
       "      <td>10515.000000</td>\n",
       "      <td>22.910000</td>\n",
       "      <td>60.000000</td>\n",
       "    </tr>\n",
       "  </tbody>\n",
       "</table>\n",
       "</div>"
      ],
      "text/plain": [
       "           Season     Ratings         Votes  Viewership    Duration\n",
       "count  188.000000  188.000000    188.000000  188.000000  188.000000\n",
       "mean     5.468085    8.237234   2838.228723    7.246330   27.053191\n",
       "std      2.386245    0.589930   1063.165290    2.066012    6.937254\n",
       "min      1.000000    6.600000   1832.000000    3.250000   19.000000\n",
       "25%      3.000000    7.800000   2187.750000    5.990000   22.000000\n",
       "50%      6.000000    8.200000   2614.000000    7.535000   23.000000\n",
       "75%      7.250000    8.600000   3144.250000    8.425000   30.000000\n",
       "max      9.000000    9.800000  10515.000000   22.910000   60.000000"
      ]
     },
     "execution_count": 37,
     "metadata": {},
     "output_type": "execute_result"
    }
   ],
   "source": [
    "df.describe()"
   ]
  },
  {
   "cell_type": "markdown",
   "id": "81b98b41-184d-46e7-8d2b-3b5a2553971f",
   "metadata": {},
   "source": [
    "From the summary statistics, everything looks pretty much good.\n",
    "We will now visualize the trend of the viewership over time."
   ]
  },
  {
   "cell_type": "code",
   "execution_count": 48,
   "id": "5f8ea161-57b5-429c-bb94-5490aaa7f332",
   "metadata": {},
   "outputs": [
    {
     "data": {
      "image/png": "[encoded data removed]",
      "text/plain": [
       "<Figure size 432x288 with 1 Axes>"
      ]
     },
     "metadata": {
      "needs_background": "light"
     },
     "output_type": "display_data"
    }
   ],
   "source": [
    "plt.plot(df['Viewership'])\n",
    "plt.xlabel('Year')\n",
    "plt.ylabel('USA Viewers [millions]')\n",
    "plt.title('Views of The Office Series in USA')\n",
    "plt.show();\n"
   ]
  },
  {
   "cell_type": "markdown",
   "id": "f7847c4c-2884-498b-b59a-f8279c0299cb",
   "metadata": {},
   "source": [
    "The graph above indicates that the viewership in the USA was somewhat relatively constant between 2005 to 2008. But there was a sharp spike in 2009 resulting in with over 22 million views. And there was a downward trend between 2011 and 2013. "
   ]
  },
  {
   "cell_type": "markdown",
   "id": "96848432-1547-478d-9fac-f7eac78c5a6f",
   "metadata": {},
   "source": [
    "We will now check the ratings and votes over the years."
   ]
  },
  {
   "cell_type": "code",
   "execution_count": 50,
   "id": "1ecc83ca-d232-43b3-8c75-67abba0682a6",
   "metadata": {},
   "outputs": [
    {
     "data": {
      "image/png": "[encoded data removed]",
      "text/plain": [
       "<Figure size 432x288 with 1 Axes>"
      ]
     },
     "metadata": {
      "needs_background": "light"
     },
     "output_type": "display_data"
    }
   ],
   "source": [
    "plt.plot(df['Ratings'])\n",
    "plt.xlabel('Year')\n",
    "plt.ylabel('Ratings')\n",
    "plt.title('Ratings of The Office Series in USA')\n",
    "plt.show();"
   ]
  },
  {
   "cell_type": "code",
   "execution_count": 52,
   "id": "f1ba4631-8952-4897-b280-3f57be94cb72",
   "metadata": {},
   "outputs": [
    {
     "data": {
      "image/png": "[encoded data removed]",
      "text/plain": [
       "<Figure size 432x288 with 1 Axes>"
      ]
     },
     "metadata": {
      "needs_background": "light"
     },
     "output_type": "display_data"
    }
   ],
   "source": [
    "plt.plot(df['Votes'])\n",
    "plt.xlabel('Year')\n",
    "plt.ylabel('Votes')\n",
    "plt.title('Votes of The Office Series in USA')\n",
    "plt.show();"
   ]
  },
  {
   "cell_type": "markdown",
   "id": "c35be51d-cf0d-49be-af75-54f9184d522b",
   "metadata": {},
   "source": [
    "These two graphs do not seem to provide positive relationship with time."
   ]
  },
  {
   "cell_type": "markdown",
   "id": "2ffdb206-79eb-472d-a604-95bd28c452f1",
   "metadata": {},
   "source": [
    "But lets look at the correlation between the numeric fields and plot their relationship."
   ]
  },
  {
   "cell_type": "code",
   "execution_count": 46,
   "id": "7413b6ac-b5d8-42a3-a29b-32992d7d576a",
   "metadata": {},
   "outputs": [
    {
     "data": {
      "text/html": [
       "<div>\n",
       "<style scoped>\n",
       "    .dataframe tbody tr th:only-of-type {\n",
       "        vertical-align: middle;\n",
       "    }\n",
       "\n",
       "    .dataframe tbody tr th {\n",
       "        vertical-align: top;\n",
       "    }\n",
       "\n",
       "    .dataframe thead th {\n",
       "        text-align: right;\n",
       "    }\n",
       "</style>\n",
       "<table border=\"1\" class=\"dataframe\">\n",
       "  <thead>\n",
       "    <tr style=\"text-align: right;\">\n",
       "      <th></th>\n",
       "      <th>Season</th>\n",
       "      <th>Ratings</th>\n",
       "      <th>Votes</th>\n",
       "      <th>Viewership</th>\n",
       "      <th>Duration</th>\n",
       "    </tr>\n",
       "  </thead>\n",
       "  <tbody>\n",
       "    <tr>\n",
       "      <th>Season</th>\n",
       "      <td>1.000000</td>\n",
       "      <td>-0.382447</td>\n",
       "      <td>-0.432233</td>\n",
       "      <td>-0.562827</td>\n",
       "      <td>0.076017</td>\n",
       "    </tr>\n",
       "    <tr>\n",
       "      <th>Ratings</th>\n",
       "      <td>-0.382447</td>\n",
       "      <td>1.000000</td>\n",
       "      <td>0.650085</td>\n",
       "      <td>0.486533</td>\n",
       "      <td>0.445092</td>\n",
       "    </tr>\n",
       "    <tr>\n",
       "      <th>Votes</th>\n",
       "      <td>-0.432233</td>\n",
       "      <td>0.650085</td>\n",
       "      <td>1.000000</td>\n",
       "      <td>0.468121</td>\n",
       "      <td>0.415316</td>\n",
       "    </tr>\n",
       "    <tr>\n",
       "      <th>Viewership</th>\n",
       "      <td>-0.562827</td>\n",
       "      <td>0.486533</td>\n",
       "      <td>0.468121</td>\n",
       "      <td>1.000000</td>\n",
       "      <td>0.315748</td>\n",
       "    </tr>\n",
       "    <tr>\n",
       "      <th>Duration</th>\n",
       "      <td>0.076017</td>\n",
       "      <td>0.445092</td>\n",
       "      <td>0.415316</td>\n",
       "      <td>0.315748</td>\n",
       "      <td>1.000000</td>\n",
       "    </tr>\n",
       "  </tbody>\n",
       "</table>\n",
       "</div>"
      ],
      "text/plain": [
       "              Season   Ratings     Votes  Viewership  Duration\n",
       "Season      1.000000 -0.382447 -0.432233   -0.562827  0.076017\n",
       "Ratings    -0.382447  1.000000  0.650085    0.486533  0.445092\n",
       "Votes      -0.432233  0.650085  1.000000    0.468121  0.415316\n",
       "Viewership -0.562827  0.486533  0.468121    1.000000  0.315748\n",
       "Duration    0.076017  0.445092  0.415316    0.315748  1.000000"
      ]
     },
     "execution_count": 46,
     "metadata": {},
     "output_type": "execute_result"
    }
   ],
   "source": [
    "df.corr()"
   ]
  },
  {
   "cell_type": "markdown",
   "id": "c0676d4f-521e-41a2-a4b4-6e9c65030dc5",
   "metadata": {},
   "source": [
    "It looks like `Ratings` and `Votes` have strong positive correlation. We will assertain this with the help of a relplot from the seaborn library."
   ]
  },
  {
   "cell_type": "code",
   "execution_count": 54,
   "id": "be01ba1d-da76-452b-bc9a-6d1f90527d04",
   "metadata": {},
   "outputs": [
    {
     "data": {
      "image/png": "[encoded data removed]",
      "text/plain": [
       "<Figure size 411.5x360 with 1 Axes>"
      ]
     },
     "metadata": {
      "needs_background": "light"
     },
     "output_type": "display_data"
    }
   ],
   "source": [
    "sns.relplot(x='Ratings', y='Votes', data=df, hue='Duration')\n",
    "plt.title('Correlation between Ratings and Votes')\n",
    "plt.show();"
   ]
  },
  {
   "cell_type": "markdown",
   "id": "37408b4e-e912-45f4-b8f3-9bbf212faf39",
   "metadata": {},
   "source": [
    "And Indeed it does!"
   ]
  },
  {
   "cell_type": "markdown",
   "id": "fabd19db-69f0-40b0-b2f4-7b140aaaf1a1",
   "metadata": {
    "tags": []
   },
   "source": [
    "## Conclusion"
   ]
  },
  {
   "cell_type": "markdown",
   "id": "cdd300e3-5d90-419d-b02b-715532206f6b",
   "metadata": {},
   "source": [
    "Overall, there is no very major changes to the viewership of the `The Office` over time."
   ]
  },
  {
   "cell_type": "code",
   "execution_count": null,
   "id": "67662de6-2533-4361-b2d3-12a0987bbd19",
   "metadata": {},
   "outputs": [],
   "source": []
  }
 ],
 "metadata": {
  "kernelspec": {
   "display_name": "Python 3 (ipykernel)",
   "language": "python",
   "name": "python3"
  },
  "language_info": {
   "codemirror_mode": {
    "name": "ipython",
    "version": 3
   },
   "file_extension": ".py",
   "mimetype": "text/x-python",
   "name": "python",
   "nbconvert_exporter": "python",
   "pygments_lexer": "ipython3",
   "version": "3.9.7"
  }
 },
 "nbformat": 4,
 "nbformat_minor": 5
}
