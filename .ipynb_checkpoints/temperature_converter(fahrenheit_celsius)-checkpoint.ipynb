{
 "cells": [
  {
   "cell_type": "markdown",
   "id": "3259c929-ebb9-4820-b1f5-249c93a582dd",
   "metadata": {},
   "source": [
    "## 1. Temperature converter from fahrenheit to celsius"
   ]
  },
  {
   "cell_type": "code",
   "execution_count": 27,
   "id": "62b83935-79a3-4ae0-a4a2-ef6ae9a33ed3",
   "metadata": {},
   "outputs": [],
   "source": [
    "def fahrenheit_to_celsius_converter(temp):\n",
    "    '''\n",
    "    this function prints the converted temperature measurement from fahrenheit to celsius\n",
    "    '''\n",
    "    \n",
    "    # formula to convert the temperature from fahrenheit to Celsius\n",
    "    celsius = (temp - 32) * (5/9) \n",
    "    \n",
    "    # round the result to 2 decimal places\n",
    "    celsius = round(celsius, 2)\n",
    "    \n",
    "    # print the results for the user\n",
    "    print(str(temp) + ' degrees Fahrenheit is equal to ' + str(celsius) + ' degrees Celsius')"
   ]
  },
  {
   "cell_type": "markdown",
   "id": "14caf157-494f-42a1-9c57-4d1d3a1ef961",
   "metadata": {},
   "source": [
    "### Examples"
   ]
  },
  {
   "cell_type": "markdown",
   "id": "6eec4c13-04b5-4088-8f4d-1cce8f915284",
   "metadata": {},
   "source": [
    "Convert 68 degrees fahrenheit to celsius"
   ]
  },
  {
   "cell_type": "code",
   "execution_count": 28,
   "id": "7f4368f1-4ef6-4ccd-bec8-76386fa1db7e",
   "metadata": {},
   "outputs": [
    {
     "name": "stdout",
     "output_type": "stream",
     "text": [
      "68 degrees Fahrenheit is equal to 20.0 degrees Celsius\n"
     ]
    }
   ],
   "source": [
    "fahrenheit_to_celsius_converter(68)"
   ]
  },
  {
   "cell_type": "markdown",
   "id": "a6acfe36-a1ea-49ac-b725-11bdbbb66b79",
   "metadata": {},
   "source": [
    "Convert 98.6 degrees fahrenheit to celsius"
   ]
  },
  {
   "cell_type": "code",
   "execution_count": 59,
   "id": "6215c84b-7b82-497a-9348-bf05fdc574c4",
   "metadata": {},
   "outputs": [
    {
     "name": "stdout",
     "output_type": "stream",
     "text": [
      "98.6 degrees Fahrenheit is equal to 37.0 degrees Celsius\n"
     ]
    }
   ],
   "source": [
    "fahrenheit_to_celsius_converter(98.6)"
   ]
  },
  {
   "cell_type": "markdown",
   "id": "6d1e97ed-f7ba-44e3-87d5-c98e1b516ead",
   "metadata": {},
   "source": [
    "## Given a positive integer, sum all the numbers from 1 up to the number"
   ]
  },
  {
   "cell_type": "code",
   "execution_count": 79,
   "id": "e61727aa-b9b5-4eea-b000-7f70be0bff92",
   "metadata": {},
   "outputs": [],
   "source": [
    "def number_sum(num):\n",
    "    '''\n",
    "        A program that returns the sum of all the numbers within a given range\n",
    "    '''\n",
    "    \n",
    "    #  implement a try except block to catch errors for non integers\n",
    "    try:\n",
    "        # Check to see if the number is a positive number\n",
    "        if((num >= 1) & (type(num) == int)):\n",
    "\n",
    "            # use list comprehension to get all the numbers in a list\n",
    "            numbers = [number for number in range(1, num + 1)]\n",
    "\n",
    "            #returns the sum\n",
    "            return sum(numbers)\n",
    "        # returns an error message if the value supplied is not a possitive number\n",
    "        else:\n",
    "            return 'Error: number provided should be 1 or greater'\n",
    "        \n",
    "    # incase the input supplied doen't conform with what is expected, the program will print an error\n",
    "    except:\n",
    "        print(\"Only integers are allowed!\") "
   ]
  },
  {
   "cell_type": "markdown",
   "id": "efc6f9da-ec82-4fa0-90c8-da9d07d0275c",
   "metadata": {},
   "source": [
    "### Examples"
   ]
  },
  {
   "cell_type": "markdown",
   "id": "75c1d546-abb0-4bb6-a0fc-64af7218db92",
   "metadata": {},
   "source": [
    "sum all the numbers from 1 to 1000"
   ]
  },
  {
   "cell_type": "code",
   "execution_count": 80,
   "id": "4a8c7d0c-1cc6-47d2-8d79-d97090b28c0e",
   "metadata": {},
   "outputs": [
    {
     "data": {
      "text/plain": [
       "500500"
      ]
     },
     "execution_count": 80,
     "metadata": {},
     "output_type": "execute_result"
    }
   ],
   "source": [
    "number_sum(1000)"
   ]
  },
  {
   "cell_type": "markdown",
   "id": "5b7dc9c6-762a-454d-a03a-1cbb0fc95bd1",
   "metadata": {},
   "source": [
    "Now, try a negative number"
   ]
  },
  {
   "cell_type": "code",
   "execution_count": 81,
   "id": "98245a5d-7961-4a5f-b27b-00940e3ef598",
   "metadata": {},
   "outputs": [
    {
     "data": {
      "text/plain": [
       "'Error: number provided should be 1 or greater'"
      ]
     },
     "execution_count": 81,
     "metadata": {},
     "output_type": "execute_result"
    }
   ],
   "source": [
    "number_sum(-1000)"
   ]
  },
  {
   "cell_type": "markdown",
   "id": "3d7490f1-8f9b-4e9b-8ea3-7a9c90534525",
   "metadata": {},
   "source": [
    "Finally, let's try non integers"
   ]
  },
  {
   "cell_type": "code",
   "execution_count": 82,
   "id": "84934047-1eb8-48d6-8a39-2e8bd11962e2",
   "metadata": {},
   "outputs": [
    {
     "data": {
      "text/plain": [
       "'Error: number provided should be 1 or greater'"
      ]
     },
     "execution_count": 82,
     "metadata": {},
     "output_type": "execute_result"
    }
   ],
   "source": [
    "number_sum(True)"
   ]
  },
  {
   "cell_type": "code",
   "execution_count": 83,
   "id": "bfc8f7f6-09b2-4779-a9d3-e444431ccfe0",
   "metadata": {},
   "outputs": [
    {
     "name": "stdout",
     "output_type": "stream",
     "text": [
      "Only integers are allowed!\n"
     ]
    }
   ],
   "source": [
    "number_sum('test')"
   ]
  },
  {
   "cell_type": "code",
   "execution_count": null,
   "id": "10ffc508-b930-4ee0-80cd-3d640ec2f942",
   "metadata": {},
   "outputs": [],
   "source": []
  }
 ],
 "metadata": {
  "kernelspec": {
   "display_name": "Python 3 (ipykernel)",
   "language": "python",
   "name": "python3"
  },
  "language_info": {
   "codemirror_mode": {
    "name": "ipython",
    "version": 3
   },
   "file_extension": ".py",
   "mimetype": "text/x-python",
   "name": "python",
   "nbconvert_exporter": "python",
   "pygments_lexer": "ipython3",
   "version": "3.9.7"
  }
 },
 "nbformat": 4,
 "nbformat_minor": 5
}
