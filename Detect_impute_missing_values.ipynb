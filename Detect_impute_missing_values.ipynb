{
 "cells": [
  {
   "cell_type": "markdown",
   "id": "7f7c1246-98bc-467f-99f5-9a00aaaf0e81",
   "metadata": {},
   "source": [
    "# Detect and Impute Missing Values in Pandas"
   ]
  },
  {
   "cell_type": "markdown",
   "id": "3ef9c8ad-906c-4ba8-b797-4c475be7fce0",
   "metadata": {},
   "source": [
    "Hardly you will come across a dataset that is free from missing values. Missing values can be encoded in a number of ways.\n",
    "Sometimes when dealing with numeric data, missing data can be encoded with Numpy's NaN value. There are times when `None`, or an empty string is used in place of a missing value. \n",
    "In this tutorial, we will first take a look at how to detect missing values and then impute them in the Data Frame."
   ]
  },
  {
   "cell_type": "markdown",
   "id": "70812f9f-87ef-4991-b20a-4a318f2c1532",
   "metadata": {},
   "source": [
    "As usual, we will import Numpy and Pandas for this tutorial. Also, we will import `statsmodels` to be able to load the `mtcars` dataset. This is the dataset we will use for the tutorial."
   ]
  },
  {
   "cell_type": "code",
   "execution_count": 1,
   "id": "b39f3475-27d0-471b-a528-de5dc208c7d4",
   "metadata": {},
   "outputs": [],
   "source": [
    "import numpy as np\n",
    "import pandas as pd\n",
    "import statsmodels.api as sm"
   ]
  },
  {
   "cell_type": "markdown",
   "id": "211b9993-1449-4085-807f-8325385fb0bf",
   "metadata": {},
   "source": [
    "We will save the loaded dataset in Data Frame called `df`"
   ]
  },
  {
   "cell_type": "code",
   "execution_count": 2,
   "id": "a39a8f91-2849-42a2-97f3-66f01827e3f9",
   "metadata": {},
   "outputs": [],
   "source": [
    "df = sm.datasets.get_rdataset(\"mtcars\", \"datasets\", cache=True).data"
   ]
  },
  {
   "cell_type": "markdown",
   "id": "3caef4d3-4eda-44ea-8350-b10c175cf9c0",
   "metadata": {},
   "source": [
    "Let's take a quick look at the Data Frame"
   ]
  },
  {
   "cell_type": "code",
   "execution_count": 4,
   "id": "59a7786f-0b2c-406b-95ba-bdb59a3c0794",
   "metadata": {},
   "outputs": [
    {
     "data": {
      "text/html": [
       "<div>\n",
       "<style scoped>\n",
       "    .dataframe tbody tr th:only-of-type {\n",
       "        vertical-align: middle;\n",
       "    }\n",
       "\n",
       "    .dataframe tbody tr th {\n",
       "        vertical-align: top;\n",
       "    }\n",
       "\n",
       "    .dataframe thead th {\n",
       "        text-align: right;\n",
       "    }\n",
       "</style>\n",
       "<table border=\"1\" class=\"dataframe\">\n",
       "  <thead>\n",
       "    <tr style=\"text-align: right;\">\n",
       "      <th></th>\n",
       "      <th>mpg</th>\n",
       "      <th>cyl</th>\n",
       "      <th>disp</th>\n",
       "      <th>hp</th>\n",
       "      <th>drat</th>\n",
       "      <th>wt</th>\n",
       "      <th>qsec</th>\n",
       "      <th>vs</th>\n",
       "      <th>am</th>\n",
       "      <th>gear</th>\n",
       "      <th>carb</th>\n",
       "    </tr>\n",
       "  </thead>\n",
       "  <tbody>\n",
       "    <tr>\n",
       "      <th>Mazda RX4</th>\n",
       "      <td>21.0</td>\n",
       "      <td>6</td>\n",
       "      <td>160.0</td>\n",
       "      <td>110</td>\n",
       "      <td>3.90</td>\n",
       "      <td>2.620</td>\n",
       "      <td>16.46</td>\n",
       "      <td>0</td>\n",
       "      <td>1</td>\n",
       "      <td>4</td>\n",
       "      <td>4</td>\n",
       "    </tr>\n",
       "    <tr>\n",
       "      <th>Mazda RX4 Wag</th>\n",
       "      <td>21.0</td>\n",
       "      <td>6</td>\n",
       "      <td>160.0</td>\n",
       "      <td>110</td>\n",
       "      <td>3.90</td>\n",
       "      <td>2.875</td>\n",
       "      <td>17.02</td>\n",
       "      <td>0</td>\n",
       "      <td>1</td>\n",
       "      <td>4</td>\n",
       "      <td>4</td>\n",
       "    </tr>\n",
       "    <tr>\n",
       "      <th>Datsun 710</th>\n",
       "      <td>22.8</td>\n",
       "      <td>4</td>\n",
       "      <td>108.0</td>\n",
       "      <td>93</td>\n",
       "      <td>3.85</td>\n",
       "      <td>2.320</td>\n",
       "      <td>18.61</td>\n",
       "      <td>1</td>\n",
       "      <td>1</td>\n",
       "      <td>4</td>\n",
       "      <td>1</td>\n",
       "    </tr>\n",
       "    <tr>\n",
       "      <th>Hornet 4 Drive</th>\n",
       "      <td>21.4</td>\n",
       "      <td>6</td>\n",
       "      <td>258.0</td>\n",
       "      <td>110</td>\n",
       "      <td>3.08</td>\n",
       "      <td>3.215</td>\n",
       "      <td>19.44</td>\n",
       "      <td>1</td>\n",
       "      <td>0</td>\n",
       "      <td>3</td>\n",
       "      <td>1</td>\n",
       "    </tr>\n",
       "    <tr>\n",
       "      <th>Hornet Sportabout</th>\n",
       "      <td>18.7</td>\n",
       "      <td>8</td>\n",
       "      <td>360.0</td>\n",
       "      <td>175</td>\n",
       "      <td>3.15</td>\n",
       "      <td>3.440</td>\n",
       "      <td>17.02</td>\n",
       "      <td>0</td>\n",
       "      <td>0</td>\n",
       "      <td>3</td>\n",
       "      <td>2</td>\n",
       "    </tr>\n",
       "  </tbody>\n",
       "</table>\n",
       "</div>"
      ],
      "text/plain": [
       "                    mpg  cyl   disp   hp  drat     wt   qsec  vs  am  gear  \\\n",
       "Mazda RX4          21.0    6  160.0  110  3.90  2.620  16.46   0   1     4   \n",
       "Mazda RX4 Wag      21.0    6  160.0  110  3.90  2.875  17.02   0   1     4   \n",
       "Datsun 710         22.8    4  108.0   93  3.85  2.320  18.61   1   1     4   \n",
       "Hornet 4 Drive     21.4    6  258.0  110  3.08  3.215  19.44   1   0     3   \n",
       "Hornet Sportabout  18.7    8  360.0  175  3.15  3.440  17.02   0   0     3   \n",
       "\n",
       "                   carb  \n",
       "Mazda RX4             4  \n",
       "Mazda RX4 Wag         4  \n",
       "Datsun 710            1  \n",
       "Hornet 4 Drive        1  \n",
       "Hornet Sportabout     2  "
      ]
     },
     "execution_count": 4,
     "metadata": {},
     "output_type": "execute_result"
    }
   ],
   "source": [
    "df.head()"
   ]
  },
  {
   "cell_type": "markdown",
   "id": "7d8fe061-797d-4560-abb4-0674f64cd7e4",
   "metadata": {},
   "source": [
    "Now that the Data Frame is all set, we need to check if it contains missing values."
   ]
  },
  {
   "cell_type": "code",
   "execution_count": 5,
   "id": "73f6b220-be11-4e04-a7e9-79f5050d8f1f",
   "metadata": {},
   "outputs": [
    {
     "data": {
      "text/plain": [
       "0"
      ]
     },
     "execution_count": 5,
     "metadata": {},
     "output_type": "execute_result"
    }
   ],
   "source": [
    "df.isnull().sum().sum()"
   ]
  },
  {
   "cell_type": "markdown",
   "id": "3b04129a-0629-4bb6-a248-d6e0647acf01",
   "metadata": {},
   "source": [
    "This Data Frame does not have missing values. So we will manually modify it to contain some. We will have `NaN` and `''` in some cells and also create a new column that only has values equal to `None`."
   ]
  },
  {
   "cell_type": "code",
   "execution_count": 6,
   "id": "3777f9be-0f0b-494d-a0f2-467153729798",
   "metadata": {},
   "outputs": [],
   "source": [
    "df.iloc[0:4, 3:4] = np.NaN\n",
    "df.iloc[1:5, 1:2] = ''\n",
    "df['col_none'] = None"
   ]
  },
  {
   "cell_type": "markdown",
   "id": "2cdb8f97-7837-473c-927a-7a85615ffea8",
   "metadata": {},
   "source": [
    "Lets now have a quick look at the head of the Data Frame."
   ]
  },
  {
   "cell_type": "code",
   "execution_count": 8,
   "id": "f5d9ffc0-ba11-4cf2-96c8-6a70bea5d1f2",
   "metadata": {},
   "outputs": [
    {
     "data": {
      "text/html": [
       "<div>\n",
       "<style scoped>\n",
       "    .dataframe tbody tr th:only-of-type {\n",
       "        vertical-align: middle;\n",
       "    }\n",
       "\n",
       "    .dataframe tbody tr th {\n",
       "        vertical-align: top;\n",
       "    }\n",
       "\n",
       "    .dataframe thead th {\n",
       "        text-align: right;\n",
       "    }\n",
       "</style>\n",
       "<table border=\"1\" class=\"dataframe\">\n",
       "  <thead>\n",
       "    <tr style=\"text-align: right;\">\n",
       "      <th></th>\n",
       "      <th>mpg</th>\n",
       "      <th>cyl</th>\n",
       "      <th>disp</th>\n",
       "      <th>hp</th>\n",
       "      <th>drat</th>\n",
       "      <th>wt</th>\n",
       "      <th>qsec</th>\n",
       "      <th>vs</th>\n",
       "      <th>am</th>\n",
       "      <th>gear</th>\n",
       "      <th>carb</th>\n",
       "      <th>col_none</th>\n",
       "    </tr>\n",
       "  </thead>\n",
       "  <tbody>\n",
       "    <tr>\n",
       "      <th>Mazda RX4</th>\n",
       "      <td>21.0</td>\n",
       "      <td>6</td>\n",
       "      <td>160.0</td>\n",
       "      <td>NaN</td>\n",
       "      <td>3.90</td>\n",
       "      <td>2.620</td>\n",
       "      <td>16.46</td>\n",
       "      <td>0</td>\n",
       "      <td>1</td>\n",
       "      <td>4</td>\n",
       "      <td>4</td>\n",
       "      <td>None</td>\n",
       "    </tr>\n",
       "    <tr>\n",
       "      <th>Mazda RX4 Wag</th>\n",
       "      <td>21.0</td>\n",
       "      <td></td>\n",
       "      <td>160.0</td>\n",
       "      <td>NaN</td>\n",
       "      <td>3.90</td>\n",
       "      <td>2.875</td>\n",
       "      <td>17.02</td>\n",
       "      <td>0</td>\n",
       "      <td>1</td>\n",
       "      <td>4</td>\n",
       "      <td>4</td>\n",
       "      <td>None</td>\n",
       "    </tr>\n",
       "    <tr>\n",
       "      <th>Datsun 710</th>\n",
       "      <td>22.8</td>\n",
       "      <td></td>\n",
       "      <td>108.0</td>\n",
       "      <td>NaN</td>\n",
       "      <td>3.85</td>\n",
       "      <td>2.320</td>\n",
       "      <td>18.61</td>\n",
       "      <td>1</td>\n",
       "      <td>1</td>\n",
       "      <td>4</td>\n",
       "      <td>1</td>\n",
       "      <td>None</td>\n",
       "    </tr>\n",
       "    <tr>\n",
       "      <th>Hornet 4 Drive</th>\n",
       "      <td>21.4</td>\n",
       "      <td></td>\n",
       "      <td>258.0</td>\n",
       "      <td>NaN</td>\n",
       "      <td>3.08</td>\n",
       "      <td>3.215</td>\n",
       "      <td>19.44</td>\n",
       "      <td>1</td>\n",
       "      <td>0</td>\n",
       "      <td>3</td>\n",
       "      <td>1</td>\n",
       "      <td>None</td>\n",
       "    </tr>\n",
       "    <tr>\n",
       "      <th>Hornet Sportabout</th>\n",
       "      <td>18.7</td>\n",
       "      <td></td>\n",
       "      <td>360.0</td>\n",
       "      <td>175.0</td>\n",
       "      <td>3.15</td>\n",
       "      <td>3.440</td>\n",
       "      <td>17.02</td>\n",
       "      <td>0</td>\n",
       "      <td>0</td>\n",
       "      <td>3</td>\n",
       "      <td>2</td>\n",
       "      <td>None</td>\n",
       "    </tr>\n",
       "  </tbody>\n",
       "</table>\n",
       "</div>"
      ],
      "text/plain": [
       "                    mpg cyl   disp     hp  drat     wt   qsec  vs  am  gear  \\\n",
       "Mazda RX4          21.0   6  160.0    NaN  3.90  2.620  16.46   0   1     4   \n",
       "Mazda RX4 Wag      21.0      160.0    NaN  3.90  2.875  17.02   0   1     4   \n",
       "Datsun 710         22.8      108.0    NaN  3.85  2.320  18.61   1   1     4   \n",
       "Hornet 4 Drive     21.4      258.0    NaN  3.08  3.215  19.44   1   0     3   \n",
       "Hornet Sportabout  18.7      360.0  175.0  3.15  3.440  17.02   0   0     3   \n",
       "\n",
       "                   carb col_none  \n",
       "Mazda RX4             4     None  \n",
       "Mazda RX4 Wag         4     None  \n",
       "Datsun 710            1     None  \n",
       "Hornet 4 Drive        1     None  \n",
       "Hornet Sportabout     2     None  "
      ]
     },
     "execution_count": 8,
     "metadata": {},
     "output_type": "execute_result"
    }
   ],
   "source": [
    "df.head()"
   ]
  },
  {
   "cell_type": "markdown",
   "id": "0f84ea4d-817c-4a46-ba2f-5ed9172fa720",
   "metadata": {},
   "source": [
    "Now we see that their are empyty strings in some cells, `NaN` values in some, and a column with only `None` values"
   ]
  },
  {
   "cell_type": "markdown",
   "id": "7661d976-caed-42af-b5bb-f111ee2cf0f6",
   "metadata": {},
   "source": [
    "We will again inspect to see how many `na` values there is in the Data Frame after the modification."
   ]
  },
  {
   "cell_type": "code",
   "execution_count": 10,
   "id": "6648f97a-2df8-455e-821e-80f13501b92e",
   "metadata": {},
   "outputs": [
    {
     "data": {
      "text/plain": [
       "36"
      ]
     },
     "execution_count": 10,
     "metadata": {},
     "output_type": "execute_result"
    }
   ],
   "source": [
    "df.isnull().sum().sum()"
   ]
  },
  {
   "cell_type": "markdown",
   "id": "c883508d-6334-4b82-abd8-7b13b32de58e",
   "metadata": {},
   "source": [
    "We now see that the total is 36!"
   ]
  },
  {
   "cell_type": "markdown",
   "id": "cf56514e-73fe-4541-a907-09565906e1d7",
   "metadata": {},
   "source": [
    "We will now create a boolean Data Frame for null values, `null`."
   ]
  },
  {
   "cell_type": "code",
   "execution_count": 11,
   "id": "8ec3ee62-63f7-44b8-8932-945408e61b38",
   "metadata": {},
   "outputs": [],
   "source": [
    "null = pd.isnull(df)"
   ]
  },
  {
   "cell_type": "markdown",
   "id": "c47ac6be-346a-495d-ae84-472f1a130bf2",
   "metadata": {},
   "source": [
    "A quick peek at the new Data Frame will give us an idea about how this looks."
   ]
  },
  {
   "cell_type": "code",
   "execution_count": 14,
   "id": "ac7c69ac-c01d-4ca5-aa30-cbdf8703a25d",
   "metadata": {},
   "outputs": [
    {
     "data": {
      "text/html": [
       "<div>\n",
       "<style scoped>\n",
       "    .dataframe tbody tr th:only-of-type {\n",
       "        vertical-align: middle;\n",
       "    }\n",
       "\n",
       "    .dataframe tbody tr th {\n",
       "        vertical-align: top;\n",
       "    }\n",
       "\n",
       "    .dataframe thead th {\n",
       "        text-align: right;\n",
       "    }\n",
       "</style>\n",
       "<table border=\"1\" class=\"dataframe\">\n",
       "  <thead>\n",
       "    <tr style=\"text-align: right;\">\n",
       "      <th></th>\n",
       "      <th>mpg</th>\n",
       "      <th>cyl</th>\n",
       "      <th>disp</th>\n",
       "      <th>hp</th>\n",
       "      <th>drat</th>\n",
       "      <th>wt</th>\n",
       "      <th>qsec</th>\n",
       "      <th>vs</th>\n",
       "      <th>am</th>\n",
       "      <th>gear</th>\n",
       "      <th>carb</th>\n",
       "      <th>col_none</th>\n",
       "    </tr>\n",
       "  </thead>\n",
       "  <tbody>\n",
       "    <tr>\n",
       "      <th>Mazda RX4</th>\n",
       "      <td>False</td>\n",
       "      <td>False</td>\n",
       "      <td>False</td>\n",
       "      <td>True</td>\n",
       "      <td>False</td>\n",
       "      <td>False</td>\n",
       "      <td>False</td>\n",
       "      <td>False</td>\n",
       "      <td>False</td>\n",
       "      <td>False</td>\n",
       "      <td>False</td>\n",
       "      <td>True</td>\n",
       "    </tr>\n",
       "    <tr>\n",
       "      <th>Mazda RX4 Wag</th>\n",
       "      <td>False</td>\n",
       "      <td>False</td>\n",
       "      <td>False</td>\n",
       "      <td>True</td>\n",
       "      <td>False</td>\n",
       "      <td>False</td>\n",
       "      <td>False</td>\n",
       "      <td>False</td>\n",
       "      <td>False</td>\n",
       "      <td>False</td>\n",
       "      <td>False</td>\n",
       "      <td>True</td>\n",
       "    </tr>\n",
       "    <tr>\n",
       "      <th>Datsun 710</th>\n",
       "      <td>False</td>\n",
       "      <td>False</td>\n",
       "      <td>False</td>\n",
       "      <td>True</td>\n",
       "      <td>False</td>\n",
       "      <td>False</td>\n",
       "      <td>False</td>\n",
       "      <td>False</td>\n",
       "      <td>False</td>\n",
       "      <td>False</td>\n",
       "      <td>False</td>\n",
       "      <td>True</td>\n",
       "    </tr>\n",
       "    <tr>\n",
       "      <th>Hornet 4 Drive</th>\n",
       "      <td>False</td>\n",
       "      <td>False</td>\n",
       "      <td>False</td>\n",
       "      <td>True</td>\n",
       "      <td>False</td>\n",
       "      <td>False</td>\n",
       "      <td>False</td>\n",
       "      <td>False</td>\n",
       "      <td>False</td>\n",
       "      <td>False</td>\n",
       "      <td>False</td>\n",
       "      <td>True</td>\n",
       "    </tr>\n",
       "    <tr>\n",
       "      <th>Hornet Sportabout</th>\n",
       "      <td>False</td>\n",
       "      <td>False</td>\n",
       "      <td>False</td>\n",
       "      <td>False</td>\n",
       "      <td>False</td>\n",
       "      <td>False</td>\n",
       "      <td>False</td>\n",
       "      <td>False</td>\n",
       "      <td>False</td>\n",
       "      <td>False</td>\n",
       "      <td>False</td>\n",
       "      <td>True</td>\n",
       "    </tr>\n",
       "  </tbody>\n",
       "</table>\n",
       "</div>"
      ],
      "text/plain": [
       "                     mpg    cyl   disp     hp   drat     wt   qsec     vs  \\\n",
       "Mazda RX4          False  False  False   True  False  False  False  False   \n",
       "Mazda RX4 Wag      False  False  False   True  False  False  False  False   \n",
       "Datsun 710         False  False  False   True  False  False  False  False   \n",
       "Hornet 4 Drive     False  False  False   True  False  False  False  False   \n",
       "Hornet Sportabout  False  False  False  False  False  False  False  False   \n",
       "\n",
       "                      am   gear   carb  col_none  \n",
       "Mazda RX4          False  False  False      True  \n",
       "Mazda RX4 Wag      False  False  False      True  \n",
       "Datsun 710         False  False  False      True  \n",
       "Hornet 4 Drive     False  False  False      True  \n",
       "Hornet Sportabout  False  False  False      True  "
      ]
     },
     "execution_count": 14,
     "metadata": {},
     "output_type": "execute_result"
    }
   ],
   "source": [
    "null.head()"
   ]
  },
  {
   "cell_type": "markdown",
   "id": "2537f3f3-928e-407a-bb12-ce5bd2db9b66",
   "metadata": {},
   "source": [
    "We see that the cells with `True` values are the ones with either `NaN` or `None`. But The empty strings are marked `False`. This is because the `isnull()` doesn't work on empty strings."
   ]
  },
  {
   "cell_type": "markdown",
   "id": "ff1d4293-241b-42aa-90a6-059f9b5b8788",
   "metadata": {},
   "source": [
    "Suppose we thoroughly checked our df and came to the conclusion that only '', NaN, and None encode missing values. We can then have these in a list and create a Data Frame for the missing values."
   ]
  },
  {
   "cell_type": "code",
   "execution_count": 13,
   "id": "e4758ec5-ff6a-4c1f-87dd-848d764b020d",
   "metadata": {},
   "outputs": [],
   "source": [
    "missing_vals = [np.NaN, '', None]\n",
    "missing = df.isin(missing_vals)"
   ]
  },
  {
   "cell_type": "markdown",
   "id": "8ba57245-4274-47a1-8634-7d18d87cf60c",
   "metadata": {},
   "source": [
    "Let's take a look at head of the new Data Frame."
   ]
  },
  {
   "cell_type": "code",
   "execution_count": 16,
   "id": "471dd6d2-ddb1-499e-ba17-86f36f403ac5",
   "metadata": {},
   "outputs": [
    {
     "data": {
      "text/html": [
       "<div>\n",
       "<style scoped>\n",
       "    .dataframe tbody tr th:only-of-type {\n",
       "        vertical-align: middle;\n",
       "    }\n",
       "\n",
       "    .dataframe tbody tr th {\n",
       "        vertical-align: top;\n",
       "    }\n",
       "\n",
       "    .dataframe thead th {\n",
       "        text-align: right;\n",
       "    }\n",
       "</style>\n",
       "<table border=\"1\" class=\"dataframe\">\n",
       "  <thead>\n",
       "    <tr style=\"text-align: right;\">\n",
       "      <th></th>\n",
       "      <th>mpg</th>\n",
       "      <th>cyl</th>\n",
       "      <th>disp</th>\n",
       "      <th>hp</th>\n",
       "      <th>drat</th>\n",
       "      <th>wt</th>\n",
       "      <th>qsec</th>\n",
       "      <th>vs</th>\n",
       "      <th>am</th>\n",
       "      <th>gear</th>\n",
       "      <th>carb</th>\n",
       "      <th>col_none</th>\n",
       "    </tr>\n",
       "  </thead>\n",
       "  <tbody>\n",
       "    <tr>\n",
       "      <th>Mazda RX4</th>\n",
       "      <td>False</td>\n",
       "      <td>False</td>\n",
       "      <td>False</td>\n",
       "      <td>True</td>\n",
       "      <td>False</td>\n",
       "      <td>False</td>\n",
       "      <td>False</td>\n",
       "      <td>False</td>\n",
       "      <td>False</td>\n",
       "      <td>False</td>\n",
       "      <td>False</td>\n",
       "      <td>True</td>\n",
       "    </tr>\n",
       "    <tr>\n",
       "      <th>Mazda RX4 Wag</th>\n",
       "      <td>False</td>\n",
       "      <td>True</td>\n",
       "      <td>False</td>\n",
       "      <td>True</td>\n",
       "      <td>False</td>\n",
       "      <td>False</td>\n",
       "      <td>False</td>\n",
       "      <td>False</td>\n",
       "      <td>False</td>\n",
       "      <td>False</td>\n",
       "      <td>False</td>\n",
       "      <td>True</td>\n",
       "    </tr>\n",
       "    <tr>\n",
       "      <th>Datsun 710</th>\n",
       "      <td>False</td>\n",
       "      <td>True</td>\n",
       "      <td>False</td>\n",
       "      <td>True</td>\n",
       "      <td>False</td>\n",
       "      <td>False</td>\n",
       "      <td>False</td>\n",
       "      <td>False</td>\n",
       "      <td>False</td>\n",
       "      <td>False</td>\n",
       "      <td>False</td>\n",
       "      <td>True</td>\n",
       "    </tr>\n",
       "    <tr>\n",
       "      <th>Hornet 4 Drive</th>\n",
       "      <td>False</td>\n",
       "      <td>True</td>\n",
       "      <td>False</td>\n",
       "      <td>True</td>\n",
       "      <td>False</td>\n",
       "      <td>False</td>\n",
       "      <td>False</td>\n",
       "      <td>False</td>\n",
       "      <td>False</td>\n",
       "      <td>False</td>\n",
       "      <td>False</td>\n",
       "      <td>True</td>\n",
       "    </tr>\n",
       "    <tr>\n",
       "      <th>Hornet Sportabout</th>\n",
       "      <td>False</td>\n",
       "      <td>True</td>\n",
       "      <td>False</td>\n",
       "      <td>False</td>\n",
       "      <td>False</td>\n",
       "      <td>False</td>\n",
       "      <td>False</td>\n",
       "      <td>False</td>\n",
       "      <td>False</td>\n",
       "      <td>False</td>\n",
       "      <td>False</td>\n",
       "      <td>True</td>\n",
       "    </tr>\n",
       "  </tbody>\n",
       "</table>\n",
       "</div>"
      ],
      "text/plain": [
       "                     mpg    cyl   disp     hp   drat     wt   qsec     vs  \\\n",
       "Mazda RX4          False  False  False   True  False  False  False  False   \n",
       "Mazda RX4 Wag      False   True  False   True  False  False  False  False   \n",
       "Datsun 710         False   True  False   True  False  False  False  False   \n",
       "Hornet 4 Drive     False   True  False   True  False  False  False  False   \n",
       "Hornet Sportabout  False   True  False  False  False  False  False  False   \n",
       "\n",
       "                      am   gear   carb  col_none  \n",
       "Mazda RX4          False  False  False      True  \n",
       "Mazda RX4 Wag      False  False  False      True  \n",
       "Datsun 710         False  False  False      True  \n",
       "Hornet 4 Drive     False  False  False      True  \n",
       "Hornet Sportabout  False  False  False      True  "
      ]
     },
     "execution_count": 16,
     "metadata": {},
     "output_type": "execute_result"
    }
   ],
   "source": [
    "missing.head()"
   ]
  },
  {
   "cell_type": "markdown",
   "id": "4b4b32b1-64fd-4b80-9041-7444caccc9fe",
   "metadata": {},
   "source": [
    "To impute missing NaNs and Nones, the `fillna()` is enough. Lets take a look."
   ]
  },
  {
   "cell_type": "code",
   "execution_count": 18,
   "id": "6e5368d7-ccbf-46be-a0fc-bb2bfb5fefb0",
   "metadata": {},
   "outputs": [
    {
     "data": {
      "text/html": [
       "<div>\n",
       "<style scoped>\n",
       "    .dataframe tbody tr th:only-of-type {\n",
       "        vertical-align: middle;\n",
       "    }\n",
       "\n",
       "    .dataframe tbody tr th {\n",
       "        vertical-align: top;\n",
       "    }\n",
       "\n",
       "    .dataframe thead th {\n",
       "        text-align: right;\n",
       "    }\n",
       "</style>\n",
       "<table border=\"1\" class=\"dataframe\">\n",
       "  <thead>\n",
       "    <tr style=\"text-align: right;\">\n",
       "      <th></th>\n",
       "      <th>mpg</th>\n",
       "      <th>cyl</th>\n",
       "      <th>disp</th>\n",
       "      <th>hp</th>\n",
       "      <th>drat</th>\n",
       "      <th>wt</th>\n",
       "      <th>qsec</th>\n",
       "      <th>vs</th>\n",
       "      <th>am</th>\n",
       "      <th>gear</th>\n",
       "      <th>carb</th>\n",
       "      <th>col_none</th>\n",
       "    </tr>\n",
       "  </thead>\n",
       "  <tbody>\n",
       "    <tr>\n",
       "      <th>Mazda RX4</th>\n",
       "      <td>21.0</td>\n",
       "      <td>6</td>\n",
       "      <td>160.0</td>\n",
       "      <td>0.0</td>\n",
       "      <td>3.90</td>\n",
       "      <td>2.620</td>\n",
       "      <td>16.46</td>\n",
       "      <td>0</td>\n",
       "      <td>1</td>\n",
       "      <td>4</td>\n",
       "      <td>4</td>\n",
       "      <td>0</td>\n",
       "    </tr>\n",
       "    <tr>\n",
       "      <th>Mazda RX4 Wag</th>\n",
       "      <td>21.0</td>\n",
       "      <td></td>\n",
       "      <td>160.0</td>\n",
       "      <td>0.0</td>\n",
       "      <td>3.90</td>\n",
       "      <td>2.875</td>\n",
       "      <td>17.02</td>\n",
       "      <td>0</td>\n",
       "      <td>1</td>\n",
       "      <td>4</td>\n",
       "      <td>4</td>\n",
       "      <td>0</td>\n",
       "    </tr>\n",
       "    <tr>\n",
       "      <th>Datsun 710</th>\n",
       "      <td>22.8</td>\n",
       "      <td></td>\n",
       "      <td>108.0</td>\n",
       "      <td>0.0</td>\n",
       "      <td>3.85</td>\n",
       "      <td>2.320</td>\n",
       "      <td>18.61</td>\n",
       "      <td>1</td>\n",
       "      <td>1</td>\n",
       "      <td>4</td>\n",
       "      <td>1</td>\n",
       "      <td>0</td>\n",
       "    </tr>\n",
       "    <tr>\n",
       "      <th>Hornet 4 Drive</th>\n",
       "      <td>21.4</td>\n",
       "      <td></td>\n",
       "      <td>258.0</td>\n",
       "      <td>0.0</td>\n",
       "      <td>3.08</td>\n",
       "      <td>3.215</td>\n",
       "      <td>19.44</td>\n",
       "      <td>1</td>\n",
       "      <td>0</td>\n",
       "      <td>3</td>\n",
       "      <td>1</td>\n",
       "      <td>0</td>\n",
       "    </tr>\n",
       "    <tr>\n",
       "      <th>Hornet Sportabout</th>\n",
       "      <td>18.7</td>\n",
       "      <td></td>\n",
       "      <td>360.0</td>\n",
       "      <td>175.0</td>\n",
       "      <td>3.15</td>\n",
       "      <td>3.440</td>\n",
       "      <td>17.02</td>\n",
       "      <td>0</td>\n",
       "      <td>0</td>\n",
       "      <td>3</td>\n",
       "      <td>2</td>\n",
       "      <td>0</td>\n",
       "    </tr>\n",
       "  </tbody>\n",
       "</table>\n",
       "</div>"
      ],
      "text/plain": [
       "                    mpg cyl   disp     hp  drat     wt   qsec  vs  am  gear  \\\n",
       "Mazda RX4          21.0   6  160.0    0.0  3.90  2.620  16.46   0   1     4   \n",
       "Mazda RX4 Wag      21.0      160.0    0.0  3.90  2.875  17.02   0   1     4   \n",
       "Datsun 710         22.8      108.0    0.0  3.85  2.320  18.61   1   1     4   \n",
       "Hornet 4 Drive     21.4      258.0    0.0  3.08  3.215  19.44   1   0     3   \n",
       "Hornet Sportabout  18.7      360.0  175.0  3.15  3.440  17.02   0   0     3   \n",
       "\n",
       "                   carb  col_none  \n",
       "Mazda RX4             4         0  \n",
       "Mazda RX4 Wag         4         0  \n",
       "Datsun 710            1         0  \n",
       "Hornet 4 Drive        1         0  \n",
       "Hornet Sportabout     2         0  "
      ]
     },
     "execution_count": 18,
     "metadata": {},
     "output_type": "execute_result"
    }
   ],
   "source": [
    "df.fillna(0).head()"
   ]
  },
  {
   "cell_type": "markdown",
   "id": "e6d03c0c-c4b3-4419-a73c-f07498e985ff",
   "metadata": {},
   "source": [
    "But to inpute/fill missing values for all the occurences of missing values including empyty strings, we will use the pandas mask method.\n",
    "Here, we will replace all missing values with the string '90000'"
   ]
  },
  {
   "cell_type": "code",
   "execution_count": 19,
   "id": "9ebfa1a0-719e-47e3-9639-e1f5feb574f4",
   "metadata": {},
   "outputs": [],
   "source": [
    "df = df.mask(missing, '90000')"
   ]
  },
  {
   "cell_type": "markdown",
   "id": "f1d54012-26da-46db-8571-6b4e6b062aae",
   "metadata": {},
   "source": [
    "Lets now see the head of the Data Frame."
   ]
  },
  {
   "cell_type": "code",
   "execution_count": 21,
   "id": "e3937998-8986-4fc0-b873-22490ef262ad",
   "metadata": {},
   "outputs": [
    {
     "data": {
      "text/html": [
       "<div>\n",
       "<style scoped>\n",
       "    .dataframe tbody tr th:only-of-type {\n",
       "        vertical-align: middle;\n",
       "    }\n",
       "\n",
       "    .dataframe tbody tr th {\n",
       "        vertical-align: top;\n",
       "    }\n",
       "\n",
       "    .dataframe thead th {\n",
       "        text-align: right;\n",
       "    }\n",
       "</style>\n",
       "<table border=\"1\" class=\"dataframe\">\n",
       "  <thead>\n",
       "    <tr style=\"text-align: right;\">\n",
       "      <th></th>\n",
       "      <th>mpg</th>\n",
       "      <th>cyl</th>\n",
       "      <th>disp</th>\n",
       "      <th>hp</th>\n",
       "      <th>drat</th>\n",
       "      <th>wt</th>\n",
       "      <th>qsec</th>\n",
       "      <th>vs</th>\n",
       "      <th>am</th>\n",
       "      <th>gear</th>\n",
       "      <th>carb</th>\n",
       "      <th>col_none</th>\n",
       "    </tr>\n",
       "  </thead>\n",
       "  <tbody>\n",
       "    <tr>\n",
       "      <th>Mazda RX4</th>\n",
       "      <td>21.0</td>\n",
       "      <td>6</td>\n",
       "      <td>160.0</td>\n",
       "      <td>90000</td>\n",
       "      <td>3.9</td>\n",
       "      <td>2.62</td>\n",
       "      <td>16.46</td>\n",
       "      <td>0</td>\n",
       "      <td>1</td>\n",
       "      <td>4</td>\n",
       "      <td>4</td>\n",
       "      <td>90000</td>\n",
       "    </tr>\n",
       "    <tr>\n",
       "      <th>Mazda RX4 Wag</th>\n",
       "      <td>21.0</td>\n",
       "      <td>90000</td>\n",
       "      <td>160.0</td>\n",
       "      <td>90000</td>\n",
       "      <td>3.9</td>\n",
       "      <td>2.875</td>\n",
       "      <td>17.02</td>\n",
       "      <td>0</td>\n",
       "      <td>1</td>\n",
       "      <td>4</td>\n",
       "      <td>4</td>\n",
       "      <td>90000</td>\n",
       "    </tr>\n",
       "    <tr>\n",
       "      <th>Datsun 710</th>\n",
       "      <td>22.8</td>\n",
       "      <td>90000</td>\n",
       "      <td>108.0</td>\n",
       "      <td>90000</td>\n",
       "      <td>3.85</td>\n",
       "      <td>2.32</td>\n",
       "      <td>18.61</td>\n",
       "      <td>1</td>\n",
       "      <td>1</td>\n",
       "      <td>4</td>\n",
       "      <td>1</td>\n",
       "      <td>90000</td>\n",
       "    </tr>\n",
       "    <tr>\n",
       "      <th>Hornet 4 Drive</th>\n",
       "      <td>21.4</td>\n",
       "      <td>90000</td>\n",
       "      <td>258.0</td>\n",
       "      <td>90000</td>\n",
       "      <td>3.08</td>\n",
       "      <td>3.215</td>\n",
       "      <td>19.44</td>\n",
       "      <td>1</td>\n",
       "      <td>0</td>\n",
       "      <td>3</td>\n",
       "      <td>1</td>\n",
       "      <td>90000</td>\n",
       "    </tr>\n",
       "    <tr>\n",
       "      <th>Hornet Sportabout</th>\n",
       "      <td>18.7</td>\n",
       "      <td>90000</td>\n",
       "      <td>360.0</td>\n",
       "      <td>175.0</td>\n",
       "      <td>3.15</td>\n",
       "      <td>3.44</td>\n",
       "      <td>17.02</td>\n",
       "      <td>0</td>\n",
       "      <td>0</td>\n",
       "      <td>3</td>\n",
       "      <td>2</td>\n",
       "      <td>90000</td>\n",
       "    </tr>\n",
       "  </tbody>\n",
       "</table>\n",
       "</div>"
      ],
      "text/plain": [
       "                    mpg    cyl   disp     hp  drat     wt   qsec  vs  am  \\\n",
       "Mazda RX4          21.0      6  160.0  90000   3.9   2.62  16.46   0   1   \n",
       "Mazda RX4 Wag      21.0  90000  160.0  90000   3.9  2.875  17.02   0   1   \n",
       "Datsun 710         22.8  90000  108.0  90000  3.85   2.32  18.61   1   1   \n",
       "Hornet 4 Drive     21.4  90000  258.0  90000  3.08  3.215  19.44   1   0   \n",
       "Hornet Sportabout  18.7  90000  360.0  175.0  3.15   3.44  17.02   0   0   \n",
       "\n",
       "                   gear  carb col_none  \n",
       "Mazda RX4             4     4    90000  \n",
       "Mazda RX4 Wag         4     4    90000  \n",
       "Datsun 710            4     1    90000  \n",
       "Hornet 4 Drive        3     1    90000  \n",
       "Hornet Sportabout     3     2    90000  "
      ]
     },
     "execution_count": 21,
     "metadata": {},
     "output_type": "execute_result"
    }
   ],
   "source": [
    "df.head()"
   ]
  },
  {
   "cell_type": "markdown",
   "id": "234f9c1c-2f69-4680-b5e1-8eebb1a61491",
   "metadata": {},
   "source": [
    "But to make sure there are no missing values, lets run the cell below to give us the count of missing values."
   ]
  },
  {
   "cell_type": "code",
   "execution_count": 22,
   "id": "c2cca280-5a9e-418f-b58b-1ec0b3596905",
   "metadata": {},
   "outputs": [
    {
     "data": {
      "text/plain": [
       "0"
      ]
     },
     "execution_count": 22,
     "metadata": {},
     "output_type": "execute_result"
    }
   ],
   "source": [
    "df.isnull().sum().sum()"
   ]
  },
  {
   "cell_type": "markdown",
   "id": "a97bb663-506f-4399-b4f7-9dcc8499b053",
   "metadata": {},
   "source": [
    "Yaay! Mission accomplished!"
   ]
  }
 ],
 "metadata": {
  "kernelspec": {
   "display_name": "Python 3 (ipykernel)",
   "language": "python",
   "name": "python3"
  },
  "language_info": {
   "codemirror_mode": {
    "name": "ipython",
    "version": 3
   },
   "file_extension": ".py",
   "mimetype": "text/x-python",
   "name": "python",
   "nbconvert_exporter": "python",
   "pygments_lexer": "ipython3",
   "version": "3.9.7"
  }
 },
 "nbformat": 4,
 "nbformat_minor": 5
}
