{
 "cells": [
  {
   "cell_type": "markdown",
   "id": "3259c929-ebb9-4820-b1f5-249c93a582dd",
   "metadata": {},
   "source": [
    "## Temperature converter from fahrenheit to celsius"
   ]
  },
  {
   "cell_type": "code",
   "execution_count": 9,
   "id": "62b83935-79a3-4ae0-a4a2-ef6ae9a33ed3",
   "metadata": {},
   "outputs": [],
   "source": [
    "def fahrenheit_to_celsius_converter(temp):\n",
    "    '''\n",
    "    this function prints the converted temperature measurement from fahrenheit to celsius\n",
    "    '''\n",
    "    \n",
    "    # formula to convert the temperature from fahrenheit to Celsius\n",
    "    celsius = (temp - 32) * (5/9) \n",
    "    \n",
    "    # round the result to 2 decimal places\n",
    "    celsius = round(celsius, 2)\n",
    "    \n",
    "    # print the results for the user\n",
    "    print(str(temp) + ' degrees Fahrenheit is equal to ' + str(celsius) + ' degrees Celsius')"
   ]
  },
  {
   "cell_type": "markdown",
   "id": "14caf157-494f-42a1-9c57-4d1d3a1ef961",
   "metadata": {},
   "source": [
    "### Examples"
   ]
  },
  {
   "cell_type": "markdown",
   "id": "6eec4c13-04b5-4088-8f4d-1cce8f915284",
   "metadata": {},
   "source": [
    "Convert 68 degrees fahrenheit to celsius"
   ]
  },
  {
   "cell_type": "code",
   "execution_count": 10,
   "id": "7f4368f1-4ef6-4ccd-bec8-76386fa1db7e",
   "metadata": {},
   "outputs": [
    {
     "name": "stdout",
     "output_type": "stream",
     "text": [
      "68 degrees Fahrenheit is equal to 20.0 degrees Celsius\n"
     ]
    }
   ],
   "source": [
    "fahrenheit_to_celsius_converter(68)"
   ]
  },
  {
   "cell_type": "markdown",
   "id": "a6acfe36-a1ea-49ac-b725-11bdbbb66b79",
   "metadata": {},
   "source": [
    "Convert 98.6 degrees fahrenheit to celsius"
   ]
  },
  {
   "cell_type": "code",
   "execution_count": 11,
   "id": "6215c84b-7b82-497a-9348-bf05fdc574c4",
   "metadata": {},
   "outputs": [
    {
     "name": "stdout",
     "output_type": "stream",
     "text": [
      "98.6 degrees Fahrenheit is equal to 37.0 degrees Celsius\n"
     ]
    }
   ],
   "source": [
    "fahrenheit_to_celsius_converter(98.6)"
   ]
  },
  {
   "cell_type": "code",
   "execution_count": null,
   "id": "d244995e-e24e-404f-aedf-51577c5c54c0",
   "metadata": {},
   "outputs": [],
   "source": []
  }
 ],
 "metadata": {
  "kernelspec": {
   "display_name": "Python 3 (ipykernel)",
   "language": "python",
   "name": "python3"
  },
  "language_info": {
   "codemirror_mode": {
    "name": "ipython",
    "version": 3
   },
   "file_extension": ".py",
   "mimetype": "text/x-python",
   "name": "python",
   "nbconvert_exporter": "python",
   "pygments_lexer": "ipython3",
   "version": "3.9.7"
  }
 },
 "nbformat": 4,
 "nbformat_minor": 5
}
