{
 "cells": [
  {
   "cell_type": "markdown",
   "id": "1260460a-f822-4450-b2d1-45218e1d0e47",
   "metadata": {},
   "source": [
    "# Adding Columns to a Data Frame"
   ]
  },
  {
   "cell_type": "markdown",
   "id": "beb49ed5-dae6-4fe7-992f-a78cf056b5c3",
   "metadata": {},
   "source": [
    "In this tutorial, we will practice adding column(s) to a Data Frame."
   ]
  },
  {
   "cell_type": "markdown",
   "id": "de3c28d9-1c15-4b82-8b3b-271fab69bcb6",
   "metadata": {},
   "source": [
    "But first, we need to import pandas and numpy to be able to demonstrate this."
   ]
  },
  {
   "cell_type": "code",
   "execution_count": 1,
   "id": "a0c006bf-5f36-40ee-8e82-b96b8cbd7c05",
   "metadata": {},
   "outputs": [],
   "source": [
    "import pandas as pd\n",
    "import numpy as np"
   ]
  },
  {
   "cell_type": "markdown",
   "id": "43ba0de9-5c26-4646-9787-ac8f3bd84bf6",
   "metadata": {},
   "source": [
    "We will create a dummy Data Frame for this illustration."
   ]
  },
  {
   "cell_type": "code",
   "execution_count": 2,
   "id": "b5ce40e7-d562-494d-aed0-a1ac4066a828",
   "metadata": {},
   "outputs": [],
   "source": [
    "df = pd.DataFrame(np.random.randint(100, 1000, size=(1000, 4)), columns=list('ABCD'))"
   ]
  },
  {
   "cell_type": "markdown",
   "id": "b7b0ac98-959b-436b-879f-6f8d259aac01",
   "metadata": {},
   "source": [
    "Let's see the first few rows of this Data Frame."
   ]
  },
  {
   "cell_type": "code",
   "execution_count": 4,
   "id": "cf5cbdb2-b47c-4b66-a753-e037366f4858",
   "metadata": {},
   "outputs": [
    {
     "data": {
      "text/html": [
       "<div>\n",
       "<style scoped>\n",
       "    .dataframe tbody tr th:only-of-type {\n",
       "        vertical-align: middle;\n",
       "    }\n",
       "\n",
       "    .dataframe tbody tr th {\n",
       "        vertical-align: top;\n",
       "    }\n",
       "\n",
       "    .dataframe thead th {\n",
       "        text-align: right;\n",
       "    }\n",
       "</style>\n",
       "<table border=\"1\" class=\"dataframe\">\n",
       "  <thead>\n",
       "    <tr style=\"text-align: right;\">\n",
       "      <th></th>\n",
       "      <th>A</th>\n",
       "      <th>B</th>\n",
       "      <th>C</th>\n",
       "      <th>D</th>\n",
       "    </tr>\n",
       "  </thead>\n",
       "  <tbody>\n",
       "    <tr>\n",
       "      <th>0</th>\n",
       "      <td>933</td>\n",
       "      <td>398</td>\n",
       "      <td>707</td>\n",
       "      <td>576</td>\n",
       "    </tr>\n",
       "    <tr>\n",
       "      <th>1</th>\n",
       "      <td>327</td>\n",
       "      <td>659</td>\n",
       "      <td>147</td>\n",
       "      <td>425</td>\n",
       "    </tr>\n",
       "    <tr>\n",
       "      <th>2</th>\n",
       "      <td>302</td>\n",
       "      <td>690</td>\n",
       "      <td>426</td>\n",
       "      <td>146</td>\n",
       "    </tr>\n",
       "    <tr>\n",
       "      <th>3</th>\n",
       "      <td>460</td>\n",
       "      <td>322</td>\n",
       "      <td>460</td>\n",
       "      <td>236</td>\n",
       "    </tr>\n",
       "    <tr>\n",
       "      <th>4</th>\n",
       "      <td>948</td>\n",
       "      <td>629</td>\n",
       "      <td>267</td>\n",
       "      <td>444</td>\n",
       "    </tr>\n",
       "  </tbody>\n",
       "</table>\n",
       "</div>"
      ],
      "text/plain": [
       "     A    B    C    D\n",
       "0  933  398  707  576\n",
       "1  327  659  147  425\n",
       "2  302  690  426  146\n",
       "3  460  322  460  236\n",
       "4  948  629  267  444"
      ]
     },
     "execution_count": 4,
     "metadata": {},
     "output_type": "execute_result"
    }
   ],
   "source": [
    "df.head()"
   ]
  },
  {
   "cell_type": "markdown",
   "id": "2bb814e9-276f-4e76-8467-cd137301a7b5",
   "metadata": {},
   "source": [
    "The first method we will discuss is called the Direct Column Assignment. "
   ]
  },
  {
   "cell_type": "markdown",
   "id": "0b502497-6395-4077-b8d7-d37d38c98afc",
   "metadata": {},
   "source": [
    "To add a column this way, type the name of the Data Frame and within the square brackets, enter the name of the new column. And set it to the values the new column holds. In this case the values will be boolean indicating whether the a value in column `A` is less than 600. In some cases, this might be a list of values you already have and can assign it to the new column."
   ]
  },
  {
   "cell_type": "code",
   "execution_count": 5,
   "id": "04d44ca0-f5ee-474f-8482-46ef7d2b0094",
   "metadata": {},
   "outputs": [],
   "source": [
    "df['type1'] = df['A'] < 600"
   ]
  },
  {
   "cell_type": "markdown",
   "id": "aa034321-b10a-467a-a6ef-76bfd9788555",
   "metadata": {},
   "source": [
    "If we print the first few rows of the Data Frame, we see that the new column has been added "
   ]
  },
  {
   "cell_type": "code",
   "execution_count": 7,
   "id": "22939f10-5d5a-4524-bd1c-cbc575c104cd",
   "metadata": {},
   "outputs": [
    {
     "data": {
      "text/html": [
       "<div>\n",
       "<style scoped>\n",
       "    .dataframe tbody tr th:only-of-type {\n",
       "        vertical-align: middle;\n",
       "    }\n",
       "\n",
       "    .dataframe tbody tr th {\n",
       "        vertical-align: top;\n",
       "    }\n",
       "\n",
       "    .dataframe thead th {\n",
       "        text-align: right;\n",
       "    }\n",
       "</style>\n",
       "<table border=\"1\" class=\"dataframe\">\n",
       "  <thead>\n",
       "    <tr style=\"text-align: right;\">\n",
       "      <th></th>\n",
       "      <th>A</th>\n",
       "      <th>B</th>\n",
       "      <th>C</th>\n",
       "      <th>D</th>\n",
       "      <th>type1</th>\n",
       "    </tr>\n",
       "  </thead>\n",
       "  <tbody>\n",
       "    <tr>\n",
       "      <th>0</th>\n",
       "      <td>933</td>\n",
       "      <td>398</td>\n",
       "      <td>707</td>\n",
       "      <td>576</td>\n",
       "      <td>False</td>\n",
       "    </tr>\n",
       "    <tr>\n",
       "      <th>1</th>\n",
       "      <td>327</td>\n",
       "      <td>659</td>\n",
       "      <td>147</td>\n",
       "      <td>425</td>\n",
       "      <td>True</td>\n",
       "    </tr>\n",
       "    <tr>\n",
       "      <th>2</th>\n",
       "      <td>302</td>\n",
       "      <td>690</td>\n",
       "      <td>426</td>\n",
       "      <td>146</td>\n",
       "      <td>True</td>\n",
       "    </tr>\n",
       "    <tr>\n",
       "      <th>3</th>\n",
       "      <td>460</td>\n",
       "      <td>322</td>\n",
       "      <td>460</td>\n",
       "      <td>236</td>\n",
       "      <td>True</td>\n",
       "    </tr>\n",
       "    <tr>\n",
       "      <th>4</th>\n",
       "      <td>948</td>\n",
       "      <td>629</td>\n",
       "      <td>267</td>\n",
       "      <td>444</td>\n",
       "      <td>False</td>\n",
       "    </tr>\n",
       "  </tbody>\n",
       "</table>\n",
       "</div>"
      ],
      "text/plain": [
       "     A    B    C    D  type1\n",
       "0  933  398  707  576  False\n",
       "1  327  659  147  425   True\n",
       "2  302  690  426  146   True\n",
       "3  460  322  460  236   True\n",
       "4  948  629  267  444  False"
      ]
     },
     "execution_count": 7,
     "metadata": {},
     "output_type": "execute_result"
    }
   ],
   "source": [
    "df.head()"
   ]
  },
  {
   "cell_type": "markdown",
   "id": "89d2ab0a-e5da-4529-bec9-807c371d7950",
   "metadata": {},
   "source": [
    "The second method we will discuss is the insert method. This method lets you insert the new column in a specified location. "
   ]
  },
  {
   "cell_type": "markdown",
   "id": "1ddbd1f4-5268-4286-9b73-1fbd2eef0be3",
   "metadata": {},
   "source": [
    "In the example below, we will insert a column, `type2`, at column index 3. The values of this column are also boolean values checking a specific condition."
   ]
  },
  {
   "cell_type": "code",
   "execution_count": 8,
   "id": "a5d24781-14bc-4916-809e-96339c487316",
   "metadata": {},
   "outputs": [],
   "source": [
    "df.insert(3,\n",
    "         'type2',\n",
    "         df['C'] > 700)"
   ]
  },
  {
   "cell_type": "markdown",
   "id": "a8a6c4ba-247b-48a0-9b5f-cc85242bb839",
   "metadata": {},
   "source": [
    "Let's take a quick look at the Data Frame to see the new changes."
   ]
  },
  {
   "cell_type": "code",
   "execution_count": 12,
   "id": "bf34c5ae-27a6-465f-bf14-d172fded01f9",
   "metadata": {},
   "outputs": [
    {
     "data": {
      "text/html": [
       "<div>\n",
       "<style scoped>\n",
       "    .dataframe tbody tr th:only-of-type {\n",
       "        vertical-align: middle;\n",
       "    }\n",
       "\n",
       "    .dataframe tbody tr th {\n",
       "        vertical-align: top;\n",
       "    }\n",
       "\n",
       "    .dataframe thead th {\n",
       "        text-align: right;\n",
       "    }\n",
       "</style>\n",
       "<table border=\"1\" class=\"dataframe\">\n",
       "  <thead>\n",
       "    <tr style=\"text-align: right;\">\n",
       "      <th></th>\n",
       "      <th>A</th>\n",
       "      <th>B</th>\n",
       "      <th>C</th>\n",
       "      <th>type2</th>\n",
       "      <th>D</th>\n",
       "      <th>type1</th>\n",
       "    </tr>\n",
       "  </thead>\n",
       "  <tbody>\n",
       "    <tr>\n",
       "      <th>0</th>\n",
       "      <td>933</td>\n",
       "      <td>398</td>\n",
       "      <td>707</td>\n",
       "      <td>True</td>\n",
       "      <td>576</td>\n",
       "      <td>False</td>\n",
       "    </tr>\n",
       "    <tr>\n",
       "      <th>1</th>\n",
       "      <td>327</td>\n",
       "      <td>659</td>\n",
       "      <td>147</td>\n",
       "      <td>False</td>\n",
       "      <td>425</td>\n",
       "      <td>True</td>\n",
       "    </tr>\n",
       "    <tr>\n",
       "      <th>2</th>\n",
       "      <td>302</td>\n",
       "      <td>690</td>\n",
       "      <td>426</td>\n",
       "      <td>False</td>\n",
       "      <td>146</td>\n",
       "      <td>True</td>\n",
       "    </tr>\n",
       "    <tr>\n",
       "      <th>3</th>\n",
       "      <td>460</td>\n",
       "      <td>322</td>\n",
       "      <td>460</td>\n",
       "      <td>False</td>\n",
       "      <td>236</td>\n",
       "      <td>True</td>\n",
       "    </tr>\n",
       "    <tr>\n",
       "      <th>4</th>\n",
       "      <td>948</td>\n",
       "      <td>629</td>\n",
       "      <td>267</td>\n",
       "      <td>False</td>\n",
       "      <td>444</td>\n",
       "      <td>False</td>\n",
       "    </tr>\n",
       "  </tbody>\n",
       "</table>\n",
       "</div>"
      ],
      "text/plain": [
       "     A    B    C  type2    D  type1\n",
       "0  933  398  707   True  576  False\n",
       "1  327  659  147  False  425   True\n",
       "2  302  690  426  False  146   True\n",
       "3  460  322  460  False  236   True\n",
       "4  948  629  267  False  444  False"
      ]
     },
     "execution_count": 12,
     "metadata": {},
     "output_type": "execute_result"
    }
   ],
   "source": [
    "df.head()"
   ]
  },
  {
   "cell_type": "markdown",
   "id": "924c9a0d-427b-417e-8fde-cbcc5fffe40a",
   "metadata": {},
   "source": [
    "Indeed, the new column has been added!"
   ]
  },
  {
   "cell_type": "markdown",
   "id": "7830fc67-7d0b-4b1a-a44a-4ccc5773c67f",
   "metadata": {},
   "source": [
    "For our third and final example, we will use the `assign` function to add two extra columns (type31 and type32) to our Data Frame. This method is capable of adding one or more new columns to a Data Frame."
   ]
  },
  {
   "cell_type": "code",
   "execution_count": 13,
   "id": "367fb75c-a8e0-44b5-89b6-328e8c5d28ae",
   "metadata": {},
   "outputs": [],
   "source": [
    "df = df.assign(type31 = df['B'] < 500,\n",
    "              type32 = df['B'] > 600)"
   ]
  },
  {
   "cell_type": "code",
   "execution_count": 15,
   "id": "9086daa2-ad00-442c-b3db-363ac5f19ee9",
   "metadata": {},
   "outputs": [
    {
     "data": {
      "text/html": [
       "<div>\n",
       "<style scoped>\n",
       "    .dataframe tbody tr th:only-of-type {\n",
       "        vertical-align: middle;\n",
       "    }\n",
       "\n",
       "    .dataframe tbody tr th {\n",
       "        vertical-align: top;\n",
       "    }\n",
       "\n",
       "    .dataframe thead th {\n",
       "        text-align: right;\n",
       "    }\n",
       "</style>\n",
       "<table border=\"1\" class=\"dataframe\">\n",
       "  <thead>\n",
       "    <tr style=\"text-align: right;\">\n",
       "      <th></th>\n",
       "      <th>A</th>\n",
       "      <th>B</th>\n",
       "      <th>C</th>\n",
       "      <th>type2</th>\n",
       "      <th>D</th>\n",
       "      <th>type1</th>\n",
       "      <th>type31</th>\n",
       "      <th>type32</th>\n",
       "    </tr>\n",
       "  </thead>\n",
       "  <tbody>\n",
       "    <tr>\n",
       "      <th>0</th>\n",
       "      <td>933</td>\n",
       "      <td>398</td>\n",
       "      <td>707</td>\n",
       "      <td>True</td>\n",
       "      <td>576</td>\n",
       "      <td>False</td>\n",
       "      <td>True</td>\n",
       "      <td>False</td>\n",
       "    </tr>\n",
       "    <tr>\n",
       "      <th>1</th>\n",
       "      <td>327</td>\n",
       "      <td>659</td>\n",
       "      <td>147</td>\n",
       "      <td>False</td>\n",
       "      <td>425</td>\n",
       "      <td>True</td>\n",
       "      <td>False</td>\n",
       "      <td>True</td>\n",
       "    </tr>\n",
       "    <tr>\n",
       "      <th>2</th>\n",
       "      <td>302</td>\n",
       "      <td>690</td>\n",
       "      <td>426</td>\n",
       "      <td>False</td>\n",
       "      <td>146</td>\n",
       "      <td>True</td>\n",
       "      <td>False</td>\n",
       "      <td>True</td>\n",
       "    </tr>\n",
       "    <tr>\n",
       "      <th>3</th>\n",
       "      <td>460</td>\n",
       "      <td>322</td>\n",
       "      <td>460</td>\n",
       "      <td>False</td>\n",
       "      <td>236</td>\n",
       "      <td>True</td>\n",
       "      <td>True</td>\n",
       "      <td>False</td>\n",
       "    </tr>\n",
       "    <tr>\n",
       "      <th>4</th>\n",
       "      <td>948</td>\n",
       "      <td>629</td>\n",
       "      <td>267</td>\n",
       "      <td>False</td>\n",
       "      <td>444</td>\n",
       "      <td>False</td>\n",
       "      <td>False</td>\n",
       "      <td>True</td>\n",
       "    </tr>\n",
       "  </tbody>\n",
       "</table>\n",
       "</div>"
      ],
      "text/plain": [
       "     A    B    C  type2    D  type1  type31  type32\n",
       "0  933  398  707   True  576  False    True   False\n",
       "1  327  659  147  False  425   True   False    True\n",
       "2  302  690  426  False  146   True   False    True\n",
       "3  460  322  460  False  236   True    True   False\n",
       "4  948  629  267  False  444  False   False    True"
      ]
     },
     "execution_count": 15,
     "metadata": {},
     "output_type": "execute_result"
    }
   ],
   "source": [
    "df.head()"
   ]
  },
  {
   "cell_type": "markdown",
   "id": "f8b1218b-93d3-4469-9633-c4be933eaa84",
   "metadata": {},
   "source": [
    "I hope you are able to learn something from this tutorial."
   ]
  },
  {
   "cell_type": "code",
   "execution_count": null,
   "id": "d7a9b526-6f89-420f-ac02-f650389541b7",
   "metadata": {},
   "outputs": [],
   "source": []
  }
 ],
 "metadata": {
  "kernelspec": {
   "display_name": "Python 3 (ipykernel)",
   "language": "python",
   "name": "python3"
  },
  "language_info": {
   "codemirror_mode": {
    "name": "ipython",
    "version": 3
   },
   "file_extension": ".py",
   "mimetype": "text/x-python",
   "name": "python",
   "nbconvert_exporter": "python",
   "pygments_lexer": "ipython3",
   "version": "3.9.7"
  }
 },
 "nbformat": 4,
 "nbformat_minor": 5
}
