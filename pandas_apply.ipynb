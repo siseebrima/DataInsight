{
 "cells": [
  {
   "cell_type": "markdown",
   "id": "472e2d98-d53f-4db2-b018-b82ad0740a1e",
   "metadata": {},
   "source": [
    "# The Apply Method in Pandas"
   ]
  },
  {
   "cell_type": "markdown",
   "id": "c4124237-0758-4e84-9212-ebed70f747d2",
   "metadata": {},
   "source": [
    "The apply function lets you run a function on all the elements of a pandas series/column. It lets you apply a function on either the rows or columns of a data-frame."
   ]
  },
  {
   "cell_type": "markdown",
   "id": "f0a41c02-5471-46eb-8b88-ae464d38e5bd",
   "metadata": {},
   "source": [
    "For us to be able to experiment on the apply method, we'd need to import a few libraries to help us with the data loading. These libraries include the numpy package and the pandas library."
   ]
  },
  {
   "cell_type": "code",
   "execution_count": 1,
   "id": "3f5e6e87-d0bf-4802-b8d9-c207676c5abb",
   "metadata": {},
   "outputs": [],
   "source": [
    "import numpy as np\n",
    "import pandas as pd"
   ]
  },
  {
   "cell_type": "markdown",
   "id": "adb47d27-b664-4066-a716-614b0c1c0a1d",
   "metadata": {},
   "source": [
    "After importing the libraries, we wil create a dataframe of random integers between 1 and 1000. The dataframe will also have 10,000 rows and 5 columns."
   ]
  },
  {
   "cell_type": "code",
   "execution_count": 2,
   "id": "92464dce-5bc1-4de0-a0df-58602bb02eab",
   "metadata": {},
   "outputs": [],
   "source": [
    "df = pd.DataFrame(np.random.randint(1, 1000, size=(10000, 5)), columns=list('LMNOP'))"
   ]
  },
  {
   "cell_type": "markdown",
   "id": "522ba9e1-f085-4ad5-8283-958a0c6cdda1",
   "metadata": {},
   "source": [
    "We will now take a look at the first few rows of the dataframe."
   ]
  },
  {
   "cell_type": "code",
   "execution_count": 4,
   "id": "04d815ee-8e78-4235-98a6-703e5ed72688",
   "metadata": {},
   "outputs": [
    {
     "data": {
      "text/html": [
       "<div>\n",
       "<style scoped>\n",
       "    .dataframe tbody tr th:only-of-type {\n",
       "        vertical-align: middle;\n",
       "    }\n",
       "\n",
       "    .dataframe tbody tr th {\n",
       "        vertical-align: top;\n",
       "    }\n",
       "\n",
       "    .dataframe thead th {\n",
       "        text-align: right;\n",
       "    }\n",
       "</style>\n",
       "<table border=\"1\" class=\"dataframe\">\n",
       "  <thead>\n",
       "    <tr style=\"text-align: right;\">\n",
       "      <th></th>\n",
       "      <th>L</th>\n",
       "      <th>M</th>\n",
       "      <th>N</th>\n",
       "      <th>O</th>\n",
       "      <th>P</th>\n",
       "    </tr>\n",
       "  </thead>\n",
       "  <tbody>\n",
       "    <tr>\n",
       "      <th>0</th>\n",
       "      <td>629</td>\n",
       "      <td>594</td>\n",
       "      <td>412</td>\n",
       "      <td>553</td>\n",
       "      <td>292</td>\n",
       "    </tr>\n",
       "    <tr>\n",
       "      <th>1</th>\n",
       "      <td>293</td>\n",
       "      <td>699</td>\n",
       "      <td>963</td>\n",
       "      <td>252</td>\n",
       "      <td>183</td>\n",
       "    </tr>\n",
       "    <tr>\n",
       "      <th>2</th>\n",
       "      <td>225</td>\n",
       "      <td>973</td>\n",
       "      <td>665</td>\n",
       "      <td>4</td>\n",
       "      <td>381</td>\n",
       "    </tr>\n",
       "    <tr>\n",
       "      <th>3</th>\n",
       "      <td>548</td>\n",
       "      <td>24</td>\n",
       "      <td>731</td>\n",
       "      <td>753</td>\n",
       "      <td>177</td>\n",
       "    </tr>\n",
       "    <tr>\n",
       "      <th>4</th>\n",
       "      <td>713</td>\n",
       "      <td>73</td>\n",
       "      <td>747</td>\n",
       "      <td>777</td>\n",
       "      <td>682</td>\n",
       "    </tr>\n",
       "  </tbody>\n",
       "</table>\n",
       "</div>"
      ],
      "text/plain": [
       "     L    M    N    O    P\n",
       "0  629  594  412  553  292\n",
       "1  293  699  963  252  183\n",
       "2  225  973  665    4  381\n",
       "3  548   24  731  753  177\n",
       "4  713   73  747  777  682"
      ]
     },
     "execution_count": 4,
     "metadata": {},
     "output_type": "execute_result"
    }
   ],
   "source": [
    "df.head()"
   ]
  },
  {
   "cell_type": "markdown",
   "id": "375974b0-8417-41f0-b524-18092b32d106",
   "metadata": {},
   "source": [
    "\n"
   ]
  },
  {
   "cell_type": "markdown",
   "id": "56543db8-1fed-4b89-8c5d-35a62fccea24",
   "metadata": {},
   "source": [
    "Since the apply method runs a function on all the entries in a series, we could use a lambda function to create a function on the fly or create a normal function to use with `apply`. The function we are going to use is going to check every cell in a series and determine whether the value is less than or greater than 500. If greater, it will return `big`, else it will return `small`."
   ]
  },
  {
   "cell_type": "code",
   "execution_count": 5,
   "id": "83ab73ff-3cb0-48cd-a03d-68ccde7f1758",
   "metadata": {},
   "outputs": [],
   "source": [
    "def my_func(cell):\n",
    "    if cell > 500:\n",
    "        return 'big'\n",
    "    else:\n",
    "        return 'small'"
   ]
  },
  {
   "cell_type": "markdown",
   "id": "58e8bb24-9617-4977-a1d3-1c1209239e60",
   "metadata": {},
   "source": [
    "We will temporarily create a column `Q` that will hold the values returned from using `apply` on column `L`."
   ]
  },
  {
   "cell_type": "code",
   "execution_count": 8,
   "id": "402d7566-ce0d-411f-97e8-ae8e9797cb64",
   "metadata": {},
   "outputs": [],
   "source": [
    "df['Q']  = df['L'].apply(my_func)"
   ]
  },
  {
   "cell_type": "code",
   "execution_count": 10,
   "id": "a2d35dba-a12a-45ef-8d43-ff1ea426f74c",
   "metadata": {},
   "outputs": [
    {
     "data": {
      "text/html": [
       "<div>\n",
       "<style scoped>\n",
       "    .dataframe tbody tr th:only-of-type {\n",
       "        vertical-align: middle;\n",
       "    }\n",
       "\n",
       "    .dataframe tbody tr th {\n",
       "        vertical-align: top;\n",
       "    }\n",
       "\n",
       "    .dataframe thead th {\n",
       "        text-align: right;\n",
       "    }\n",
       "</style>\n",
       "<table border=\"1\" class=\"dataframe\">\n",
       "  <thead>\n",
       "    <tr style=\"text-align: right;\">\n",
       "      <th></th>\n",
       "      <th>L</th>\n",
       "      <th>M</th>\n",
       "      <th>N</th>\n",
       "      <th>O</th>\n",
       "      <th>P</th>\n",
       "      <th>Q</th>\n",
       "    </tr>\n",
       "  </thead>\n",
       "  <tbody>\n",
       "    <tr>\n",
       "      <th>0</th>\n",
       "      <td>629</td>\n",
       "      <td>594</td>\n",
       "      <td>412</td>\n",
       "      <td>553</td>\n",
       "      <td>292</td>\n",
       "      <td>big</td>\n",
       "    </tr>\n",
       "    <tr>\n",
       "      <th>1</th>\n",
       "      <td>293</td>\n",
       "      <td>699</td>\n",
       "      <td>963</td>\n",
       "      <td>252</td>\n",
       "      <td>183</td>\n",
       "      <td>small</td>\n",
       "    </tr>\n",
       "    <tr>\n",
       "      <th>2</th>\n",
       "      <td>225</td>\n",
       "      <td>973</td>\n",
       "      <td>665</td>\n",
       "      <td>4</td>\n",
       "      <td>381</td>\n",
       "      <td>small</td>\n",
       "    </tr>\n",
       "    <tr>\n",
       "      <th>3</th>\n",
       "      <td>548</td>\n",
       "      <td>24</td>\n",
       "      <td>731</td>\n",
       "      <td>753</td>\n",
       "      <td>177</td>\n",
       "      <td>big</td>\n",
       "    </tr>\n",
       "    <tr>\n",
       "      <th>4</th>\n",
       "      <td>713</td>\n",
       "      <td>73</td>\n",
       "      <td>747</td>\n",
       "      <td>777</td>\n",
       "      <td>682</td>\n",
       "      <td>big</td>\n",
       "    </tr>\n",
       "  </tbody>\n",
       "</table>\n",
       "</div>"
      ],
      "text/plain": [
       "     L    M    N    O    P      Q\n",
       "0  629  594  412  553  292    big\n",
       "1  293  699  963  252  183  small\n",
       "2  225  973  665    4  381  small\n",
       "3  548   24  731  753  177    big\n",
       "4  713   73  747  777  682    big"
      ]
     },
     "execution_count": 10,
     "metadata": {},
     "output_type": "execute_result"
    }
   ],
   "source": [
    "df.head()"
   ]
  },
  {
   "cell_type": "markdown",
   "id": "8609880f-e3d0-4d10-a2b1-dede41ae896e",
   "metadata": {},
   "source": [
    "A quick summary statistics of the numeric columns of the dataframe can be seen below."
   ]
  },
  {
   "cell_type": "code",
   "execution_count": 13,
   "id": "c72c4c33-5a90-4b2c-879d-960f3c276acb",
   "metadata": {},
   "outputs": [
    {
     "data": {
      "text/html": [
       "<div>\n",
       "<style scoped>\n",
       "    .dataframe tbody tr th:only-of-type {\n",
       "        vertical-align: middle;\n",
       "    }\n",
       "\n",
       "    .dataframe tbody tr th {\n",
       "        vertical-align: top;\n",
       "    }\n",
       "\n",
       "    .dataframe thead th {\n",
       "        text-align: right;\n",
       "    }\n",
       "</style>\n",
       "<table border=\"1\" class=\"dataframe\">\n",
       "  <thead>\n",
       "    <tr style=\"text-align: right;\">\n",
       "      <th></th>\n",
       "      <th>L</th>\n",
       "      <th>M</th>\n",
       "      <th>N</th>\n",
       "      <th>O</th>\n",
       "      <th>P</th>\n",
       "    </tr>\n",
       "  </thead>\n",
       "  <tbody>\n",
       "    <tr>\n",
       "      <th>count</th>\n",
       "      <td>10000.000000</td>\n",
       "      <td>10000.000000</td>\n",
       "      <td>10000.000000</td>\n",
       "      <td>10000.000000</td>\n",
       "      <td>10000.000000</td>\n",
       "    </tr>\n",
       "    <tr>\n",
       "      <th>mean</th>\n",
       "      <td>501.306000</td>\n",
       "      <td>501.802000</td>\n",
       "      <td>501.668300</td>\n",
       "      <td>496.814300</td>\n",
       "      <td>504.334900</td>\n",
       "    </tr>\n",
       "    <tr>\n",
       "      <th>std</th>\n",
       "      <td>286.848333</td>\n",
       "      <td>288.056495</td>\n",
       "      <td>286.701722</td>\n",
       "      <td>289.389585</td>\n",
       "      <td>287.392113</td>\n",
       "    </tr>\n",
       "    <tr>\n",
       "      <th>min</th>\n",
       "      <td>1.000000</td>\n",
       "      <td>1.000000</td>\n",
       "      <td>1.000000</td>\n",
       "      <td>1.000000</td>\n",
       "      <td>1.000000</td>\n",
       "    </tr>\n",
       "    <tr>\n",
       "      <th>25%</th>\n",
       "      <td>253.000000</td>\n",
       "      <td>253.000000</td>\n",
       "      <td>257.000000</td>\n",
       "      <td>247.000000</td>\n",
       "      <td>256.000000</td>\n",
       "    </tr>\n",
       "    <tr>\n",
       "      <th>50%</th>\n",
       "      <td>501.000000</td>\n",
       "      <td>504.000000</td>\n",
       "      <td>500.000000</td>\n",
       "      <td>499.000000</td>\n",
       "      <td>504.500000</td>\n",
       "    </tr>\n",
       "    <tr>\n",
       "      <th>75%</th>\n",
       "      <td>750.000000</td>\n",
       "      <td>750.000000</td>\n",
       "      <td>748.000000</td>\n",
       "      <td>747.000000</td>\n",
       "      <td>752.250000</td>\n",
       "    </tr>\n",
       "    <tr>\n",
       "      <th>max</th>\n",
       "      <td>999.000000</td>\n",
       "      <td>999.000000</td>\n",
       "      <td>999.000000</td>\n",
       "      <td>999.000000</td>\n",
       "      <td>999.000000</td>\n",
       "    </tr>\n",
       "  </tbody>\n",
       "</table>\n",
       "</div>"
      ],
      "text/plain": [
       "                  L             M             N             O             P\n",
       "count  10000.000000  10000.000000  10000.000000  10000.000000  10000.000000\n",
       "mean     501.306000    501.802000    501.668300    496.814300    504.334900\n",
       "std      286.848333    288.056495    286.701722    289.389585    287.392113\n",
       "min        1.000000      1.000000      1.000000      1.000000      1.000000\n",
       "25%      253.000000    253.000000    257.000000    247.000000    256.000000\n",
       "50%      501.000000    504.000000    500.000000    499.000000    504.500000\n",
       "75%      750.000000    750.000000    748.000000    747.000000    752.250000\n",
       "max      999.000000    999.000000    999.000000    999.000000    999.000000"
      ]
     },
     "execution_count": 13,
     "metadata": {},
     "output_type": "execute_result"
    }
   ],
   "source": [
    "df.describe()"
   ]
  },
  {
   "cell_type": "markdown",
   "id": "1b6ad4fe-717c-43bc-9007-ef9170150d7c",
   "metadata": {},
   "source": [
    "You can even even use apply on a dataframe to calculate aggregation across different axis. "
   ]
  },
  {
   "cell_type": "markdown",
   "id": "9854c1a6-c237-4981-b03a-cab2bcbdaeee",
   "metadata": {},
   "source": [
    "The function below calculates the mean of the given column."
   ]
  },
  {
   "cell_type": "code",
   "execution_count": 14,
   "id": "0e724d40-dbf0-434d-9e4c-d4d4744cfef9",
   "metadata": {},
   "outputs": [],
   "source": [
    "def average(col):\n",
    "    return round(col.mean())"
   ]
  },
  {
   "cell_type": "markdown",
   "id": "970f01aa-d5b6-46a9-ac54-72b60a9c95be",
   "metadata": {},
   "source": [
    "To be able to do this, we have to specify that the axis should be equal to 0. But for this to work, it needs to be applied on numeric columns. Since column `Q` is not numeric, running apply like this will throw an error. So first, we will need to delete this column."
   ]
  },
  {
   "cell_type": "code",
   "execution_count": 15,
   "id": "d860f50d-24f3-479f-8985-388fe8f3e03c",
   "metadata": {},
   "outputs": [],
   "source": [
    "df.drop(columns='Q', inplace=True)"
   ]
  },
  {
   "cell_type": "code",
   "execution_count": 18,
   "id": "7c5ad393-82be-4615-a422-547a38e46e87",
   "metadata": {},
   "outputs": [
    {
     "data": {
      "text/plain": [
       "L    501\n",
       "M    502\n",
       "N    502\n",
       "O    497\n",
       "P    504\n",
       "dtype: int64"
      ]
     },
     "execution_count": 18,
     "metadata": {},
     "output_type": "execute_result"
    }
   ],
   "source": [
    "df.apply(average, axis=0)"
   ]
  },
  {
   "cell_type": "markdown",
   "id": "39812836-d1df-46c3-9d1c-30442689151e",
   "metadata": {},
   "source": [
    "We can do aggregation row wise as well. This can be accomplished by setting axis to 1. The below cell creates a new cloumn, `average` that calculates the average row wise."
   ]
  },
  {
   "cell_type": "code",
   "execution_count": 19,
   "id": "be8c01de-3e2e-4a0d-beb4-2b039f4e22c3",
   "metadata": {},
   "outputs": [],
   "source": [
    "df['average'] = df.apply(average, axis=1)"
   ]
  },
  {
   "cell_type": "code",
   "execution_count": 21,
   "id": "74e5e7e8-6cf6-43ee-92e9-2e4e348b648b",
   "metadata": {},
   "outputs": [
    {
     "data": {
      "text/html": [
       "<div>\n",
       "<style scoped>\n",
       "    .dataframe tbody tr th:only-of-type {\n",
       "        vertical-align: middle;\n",
       "    }\n",
       "\n",
       "    .dataframe tbody tr th {\n",
       "        vertical-align: top;\n",
       "    }\n",
       "\n",
       "    .dataframe thead th {\n",
       "        text-align: right;\n",
       "    }\n",
       "</style>\n",
       "<table border=\"1\" class=\"dataframe\">\n",
       "  <thead>\n",
       "    <tr style=\"text-align: right;\">\n",
       "      <th></th>\n",
       "      <th>L</th>\n",
       "      <th>M</th>\n",
       "      <th>N</th>\n",
       "      <th>O</th>\n",
       "      <th>P</th>\n",
       "      <th>average</th>\n",
       "    </tr>\n",
       "  </thead>\n",
       "  <tbody>\n",
       "    <tr>\n",
       "      <th>0</th>\n",
       "      <td>629</td>\n",
       "      <td>594</td>\n",
       "      <td>412</td>\n",
       "      <td>553</td>\n",
       "      <td>292</td>\n",
       "      <td>496</td>\n",
       "    </tr>\n",
       "    <tr>\n",
       "      <th>1</th>\n",
       "      <td>293</td>\n",
       "      <td>699</td>\n",
       "      <td>963</td>\n",
       "      <td>252</td>\n",
       "      <td>183</td>\n",
       "      <td>478</td>\n",
       "    </tr>\n",
       "    <tr>\n",
       "      <th>2</th>\n",
       "      <td>225</td>\n",
       "      <td>973</td>\n",
       "      <td>665</td>\n",
       "      <td>4</td>\n",
       "      <td>381</td>\n",
       "      <td>450</td>\n",
       "    </tr>\n",
       "    <tr>\n",
       "      <th>3</th>\n",
       "      <td>548</td>\n",
       "      <td>24</td>\n",
       "      <td>731</td>\n",
       "      <td>753</td>\n",
       "      <td>177</td>\n",
       "      <td>447</td>\n",
       "    </tr>\n",
       "    <tr>\n",
       "      <th>4</th>\n",
       "      <td>713</td>\n",
       "      <td>73</td>\n",
       "      <td>747</td>\n",
       "      <td>777</td>\n",
       "      <td>682</td>\n",
       "      <td>598</td>\n",
       "    </tr>\n",
       "  </tbody>\n",
       "</table>\n",
       "</div>"
      ],
      "text/plain": [
       "     L    M    N    O    P  average\n",
       "0  629  594  412  553  292      496\n",
       "1  293  699  963  252  183      478\n",
       "2  225  973  665    4  381      450\n",
       "3  548   24  731  753  177      447\n",
       "4  713   73  747  777  682      598"
      ]
     },
     "execution_count": 21,
     "metadata": {},
     "output_type": "execute_result"
    }
   ],
   "source": [
    "df.head()"
   ]
  },
  {
   "cell_type": "markdown",
   "id": "e0ec3fba-3f37-47c8-b731-d7064d2ac4ef",
   "metadata": {},
   "source": [
    "This is the tip of the iceberg but gives you a solid foundation when getting started with `apply`!"
   ]
  },
  {
   "cell_type": "code",
   "execution_count": null,
   "id": "d7b1ff7d-dd0f-486e-a75b-f660982834e2",
   "metadata": {},
   "outputs": [],
   "source": []
  }
 ],
 "metadata": {
  "kernelspec": {
   "display_name": "Python 3 (ipykernel)",
   "language": "python",
   "name": "python3"
  },
  "language_info": {
   "codemirror_mode": {
    "name": "ipython",
    "version": 3
   },
   "file_extension": ".py",
   "mimetype": "text/x-python",
   "name": "python",
   "nbconvert_exporter": "python",
   "pygments_lexer": "ipython3",
   "version": "3.9.7"
  }
 },
 "nbformat": 4,
 "nbformat_minor": 5
}
