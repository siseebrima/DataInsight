{
 "cells": [
  {
   "cell_type": "markdown",
   "id": "64f35265-c634-4d29-a43c-b1f0cb95ff59",
   "metadata": {},
   "source": [
    "# Where Function in Pandas"
   ]
  },
  {
   "cell_type": "markdown",
   "id": "a799d6cf-e4a3-4267-ab6e-9d8e3edaf5ea",
   "metadata": {},
   "source": [
    "The where() in pandas and numpy is used to filter Data Frames based on a condition. We will discuss this important topic in this tutorial."
   ]
  },
  {
   "cell_type": "markdown",
   "id": "8587874d-247c-4827-9527-980773e324d7",
   "metadata": {},
   "source": [
    "First, we will need to import our libraries that will help us work with a Data Frame."
   ]
  },
  {
   "cell_type": "code",
   "execution_count": 1,
   "id": "3d593349-639e-4e08-b12b-8bdfb4e23baa",
   "metadata": {},
   "outputs": [],
   "source": [
    "import numpy as np\n",
    "import pandas as pd\n",
    "import statsmodels.api as sm"
   ]
  },
  {
   "cell_type": "markdown",
   "id": "2e136e63-e938-4e1d-96f9-a4ba80d5adc6",
   "metadata": {},
   "source": [
    "Now that the libraries are imported, we will load the mtcars dataset from statsmodels into a Data Frame and name it as df."
   ]
  },
  {
   "cell_type": "code",
   "execution_count": 2,
   "id": "5277c318-df36-4905-aacb-fdba3eae05f3",
   "metadata": {},
   "outputs": [],
   "source": [
    " df = sm.datasets.get_rdataset(\"mtcars\", \"datasets\", cache=True).data"
   ]
  },
  {
   "cell_type": "markdown",
   "id": "f4972b29-6881-4d41-8701-67d275d5ab09",
   "metadata": {},
   "source": [
    "Let's take a quick glance at the newly created Data Frame."
   ]
  },
  {
   "cell_type": "code",
   "execution_count": 4,
   "id": "a0e5d422-c307-44e4-addd-a3630b2e7135",
   "metadata": {},
   "outputs": [
    {
     "data": {
      "text/html": [
       "<div>\n",
       "<style scoped>\n",
       "    .dataframe tbody tr th:only-of-type {\n",
       "        vertical-align: middle;\n",
       "    }\n",
       "\n",
       "    .dataframe tbody tr th {\n",
       "        vertical-align: top;\n",
       "    }\n",
       "\n",
       "    .dataframe thead th {\n",
       "        text-align: right;\n",
       "    }\n",
       "</style>\n",
       "<table border=\"1\" class=\"dataframe\">\n",
       "  <thead>\n",
       "    <tr style=\"text-align: right;\">\n",
       "      <th></th>\n",
       "      <th>mpg</th>\n",
       "      <th>cyl</th>\n",
       "      <th>disp</th>\n",
       "      <th>hp</th>\n",
       "      <th>drat</th>\n",
       "      <th>wt</th>\n",
       "      <th>qsec</th>\n",
       "      <th>vs</th>\n",
       "      <th>am</th>\n",
       "      <th>gear</th>\n",
       "      <th>carb</th>\n",
       "    </tr>\n",
       "  </thead>\n",
       "  <tbody>\n",
       "    <tr>\n",
       "      <th>Mazda RX4</th>\n",
       "      <td>21.0</td>\n",
       "      <td>6</td>\n",
       "      <td>160.0</td>\n",
       "      <td>110</td>\n",
       "      <td>3.90</td>\n",
       "      <td>2.620</td>\n",
       "      <td>16.46</td>\n",
       "      <td>0</td>\n",
       "      <td>1</td>\n",
       "      <td>4</td>\n",
       "      <td>4</td>\n",
       "    </tr>\n",
       "    <tr>\n",
       "      <th>Mazda RX4 Wag</th>\n",
       "      <td>21.0</td>\n",
       "      <td>6</td>\n",
       "      <td>160.0</td>\n",
       "      <td>110</td>\n",
       "      <td>3.90</td>\n",
       "      <td>2.875</td>\n",
       "      <td>17.02</td>\n",
       "      <td>0</td>\n",
       "      <td>1</td>\n",
       "      <td>4</td>\n",
       "      <td>4</td>\n",
       "    </tr>\n",
       "    <tr>\n",
       "      <th>Datsun 710</th>\n",
       "      <td>22.8</td>\n",
       "      <td>4</td>\n",
       "      <td>108.0</td>\n",
       "      <td>93</td>\n",
       "      <td>3.85</td>\n",
       "      <td>2.320</td>\n",
       "      <td>18.61</td>\n",
       "      <td>1</td>\n",
       "      <td>1</td>\n",
       "      <td>4</td>\n",
       "      <td>1</td>\n",
       "    </tr>\n",
       "    <tr>\n",
       "      <th>Hornet 4 Drive</th>\n",
       "      <td>21.4</td>\n",
       "      <td>6</td>\n",
       "      <td>258.0</td>\n",
       "      <td>110</td>\n",
       "      <td>3.08</td>\n",
       "      <td>3.215</td>\n",
       "      <td>19.44</td>\n",
       "      <td>1</td>\n",
       "      <td>0</td>\n",
       "      <td>3</td>\n",
       "      <td>1</td>\n",
       "    </tr>\n",
       "    <tr>\n",
       "      <th>Hornet Sportabout</th>\n",
       "      <td>18.7</td>\n",
       "      <td>8</td>\n",
       "      <td>360.0</td>\n",
       "      <td>175</td>\n",
       "      <td>3.15</td>\n",
       "      <td>3.440</td>\n",
       "      <td>17.02</td>\n",
       "      <td>0</td>\n",
       "      <td>0</td>\n",
       "      <td>3</td>\n",
       "      <td>2</td>\n",
       "    </tr>\n",
       "  </tbody>\n",
       "</table>\n",
       "</div>"
      ],
      "text/plain": [
       "                    mpg  cyl   disp   hp  drat     wt   qsec  vs  am  gear  \\\n",
       "Mazda RX4          21.0    6  160.0  110  3.90  2.620  16.46   0   1     4   \n",
       "Mazda RX4 Wag      21.0    6  160.0  110  3.90  2.875  17.02   0   1     4   \n",
       "Datsun 710         22.8    4  108.0   93  3.85  2.320  18.61   1   1     4   \n",
       "Hornet 4 Drive     21.4    6  258.0  110  3.08  3.215  19.44   1   0     3   \n",
       "Hornet Sportabout  18.7    8  360.0  175  3.15  3.440  17.02   0   0     3   \n",
       "\n",
       "                   carb  \n",
       "Mazda RX4             4  \n",
       "Mazda RX4 Wag         4  \n",
       "Datsun 710            1  \n",
       "Hornet 4 Drive        1  \n",
       "Hornet Sportabout     2  "
      ]
     },
     "execution_count": 4,
     "metadata": {},
     "output_type": "execute_result"
    }
   ],
   "source": [
    "df.head()"
   ]
  },
  {
   "cell_type": "markdown",
   "id": "40ace937-3335-4b43-b33f-0150ece3dff9",
   "metadata": {},
   "source": [
    "Our tutorial will start by first getting the indices of all the cars in the Data Frame which has four cylinders. We will store these indices in a variable called four_cyl_ind."
   ]
  },
  {
   "cell_type": "code",
   "execution_count": 5,
   "id": "a4e7cc1d-d116-4f99-a2e6-70afc503cf7c",
   "metadata": {},
   "outputs": [],
   "source": [
    "four_cyl_ind = np.where(df.cyl == 4)"
   ]
  },
  {
   "cell_type": "markdown",
   "id": "5c0af7ef-0748-4768-bc74-cf4fd123ca23",
   "metadata": {},
   "source": [
    "Since the dataset is not very big, we can assume that the four cylinder cars will not be too many. That being the case, we will print the indices below."
   ]
  },
  {
   "cell_type": "code",
   "execution_count": 6,
   "id": "bba93c02-a25b-4656-b69b-701bd6104801",
   "metadata": {},
   "outputs": [
    {
     "data": {
      "text/plain": [
       "(array([ 2,  7,  8, 17, 18, 19, 20, 25, 26, 27, 31]),)"
      ]
     },
     "execution_count": 6,
     "metadata": {},
     "output_type": "execute_result"
    }
   ],
   "source": [
    "four_cyl_ind"
   ]
  },
  {
   "cell_type": "markdown",
   "id": "29439276-d394-4f44-b6b3-87ab29b5e40e",
   "metadata": {},
   "source": [
    "Now, we can subset the Data Frame and get data on only the four cylinder cars."
   ]
  },
  {
   "cell_type": "code",
   "execution_count": 7,
   "id": "5e67469b-483d-4334-a02b-cd84262bab9b",
   "metadata": {},
   "outputs": [],
   "source": [
    "four_cylinder_cars = df.iloc[four_cyl_ind]"
   ]
  },
  {
   "cell_type": "markdown",
   "id": "64439a84-e4b5-41dc-ba88-f86d6b17b328",
   "metadata": {},
   "source": [
    "To confirm that only four cylinder cars are in the new Data Frame, we will check the unique values in the `cyl` column. If it is more than one, then our assertion is incorrect."
   ]
  },
  {
   "cell_type": "code",
   "execution_count": 8,
   "id": "fb21d096-81b9-4b22-bccc-fc611e960a91",
   "metadata": {},
   "outputs": [
    {
     "data": {
      "text/plain": [
       "array([4])"
      ]
     },
     "execution_count": 8,
     "metadata": {},
     "output_type": "execute_result"
    }
   ],
   "source": [
    "four_cylinder_cars['cyl'].unique()"
   ]
  },
  {
   "cell_type": "markdown",
   "id": "069505b9-74d8-48d0-a5c4-b538845573e2",
   "metadata": {},
   "source": [
    "And yes! We were right."
   ]
  },
  {
   "cell_type": "markdown",
   "id": "25fb02ba-3c05-42f8-b07d-d52fd2044be6",
   "metadata": {},
   "source": [
    "But let's look at the first few rows of the new Data Frame."
   ]
  },
  {
   "cell_type": "code",
   "execution_count": 9,
   "id": "9b5fad1e-cee3-4df2-bcba-ef892169b198",
   "metadata": {},
   "outputs": [],
   "source": [
    "four_cylinder_cars.head()"
   ]
  },
  {
   "cell_type": "markdown",
   "id": "f885a613-7c2c-4cac-9e57-ef715fc71558",
   "metadata": {},
   "source": [
    "We can use the where() to also create a new column in a Data Frame. It checks a condition, if true, the second argument is returned. Otherwise, the third one is returned. We will create a new column called `consumption` based on this."
   ]
  },
  {
   "cell_type": "code",
   "execution_count": 10,
   "id": "b92d445c-8615-4d7c-a567-0c3c4187f937",
   "metadata": {},
   "outputs": [],
   "source": [
    "df['consumption'] = np.where(df['mpg'] > 25,\n",
    "        'High MPG', \n",
    "        'Low MPG')"
   ]
  },
  {
   "cell_type": "markdown",
   "id": "b4263cba-72de-4d67-987d-88ea5cf5f431",
   "metadata": {},
   "source": [
    "Finally, we will see the new column added to Data Frame."
   ]
  },
  {
   "cell_type": "code",
   "execution_count": 12,
   "id": "30fc077b-2f80-4d03-b34c-52c7c86afc95",
   "metadata": {},
   "outputs": [
    {
     "data": {
      "text/html": [
       "<div>\n",
       "<style scoped>\n",
       "    .dataframe tbody tr th:only-of-type {\n",
       "        vertical-align: middle;\n",
       "    }\n",
       "\n",
       "    .dataframe tbody tr th {\n",
       "        vertical-align: top;\n",
       "    }\n",
       "\n",
       "    .dataframe thead th {\n",
       "        text-align: right;\n",
       "    }\n",
       "</style>\n",
       "<table border=\"1\" class=\"dataframe\">\n",
       "  <thead>\n",
       "    <tr style=\"text-align: right;\">\n",
       "      <th></th>\n",
       "      <th>mpg</th>\n",
       "      <th>cyl</th>\n",
       "      <th>disp</th>\n",
       "      <th>hp</th>\n",
       "      <th>drat</th>\n",
       "      <th>wt</th>\n",
       "      <th>qsec</th>\n",
       "      <th>vs</th>\n",
       "      <th>am</th>\n",
       "      <th>gear</th>\n",
       "      <th>carb</th>\n",
       "      <th>consumption</th>\n",
       "    </tr>\n",
       "  </thead>\n",
       "  <tbody>\n",
       "    <tr>\n",
       "      <th>Mazda RX4</th>\n",
       "      <td>21.0</td>\n",
       "      <td>6</td>\n",
       "      <td>160.0</td>\n",
       "      <td>110</td>\n",
       "      <td>3.90</td>\n",
       "      <td>2.620</td>\n",
       "      <td>16.46</td>\n",
       "      <td>0</td>\n",
       "      <td>1</td>\n",
       "      <td>4</td>\n",
       "      <td>4</td>\n",
       "      <td>Low MPG</td>\n",
       "    </tr>\n",
       "    <tr>\n",
       "      <th>Mazda RX4 Wag</th>\n",
       "      <td>21.0</td>\n",
       "      <td>6</td>\n",
       "      <td>160.0</td>\n",
       "      <td>110</td>\n",
       "      <td>3.90</td>\n",
       "      <td>2.875</td>\n",
       "      <td>17.02</td>\n",
       "      <td>0</td>\n",
       "      <td>1</td>\n",
       "      <td>4</td>\n",
       "      <td>4</td>\n",
       "      <td>Low MPG</td>\n",
       "    </tr>\n",
       "    <tr>\n",
       "      <th>Datsun 710</th>\n",
       "      <td>22.8</td>\n",
       "      <td>4</td>\n",
       "      <td>108.0</td>\n",
       "      <td>93</td>\n",
       "      <td>3.85</td>\n",
       "      <td>2.320</td>\n",
       "      <td>18.61</td>\n",
       "      <td>1</td>\n",
       "      <td>1</td>\n",
       "      <td>4</td>\n",
       "      <td>1</td>\n",
       "      <td>Low MPG</td>\n",
       "    </tr>\n",
       "    <tr>\n",
       "      <th>Hornet 4 Drive</th>\n",
       "      <td>21.4</td>\n",
       "      <td>6</td>\n",
       "      <td>258.0</td>\n",
       "      <td>110</td>\n",
       "      <td>3.08</td>\n",
       "      <td>3.215</td>\n",
       "      <td>19.44</td>\n",
       "      <td>1</td>\n",
       "      <td>0</td>\n",
       "      <td>3</td>\n",
       "      <td>1</td>\n",
       "      <td>Low MPG</td>\n",
       "    </tr>\n",
       "    <tr>\n",
       "      <th>Hornet Sportabout</th>\n",
       "      <td>18.7</td>\n",
       "      <td>8</td>\n",
       "      <td>360.0</td>\n",
       "      <td>175</td>\n",
       "      <td>3.15</td>\n",
       "      <td>3.440</td>\n",
       "      <td>17.02</td>\n",
       "      <td>0</td>\n",
       "      <td>0</td>\n",
       "      <td>3</td>\n",
       "      <td>2</td>\n",
       "      <td>Low MPG</td>\n",
       "    </tr>\n",
       "  </tbody>\n",
       "</table>\n",
       "</div>"
      ],
      "text/plain": [
       "                    mpg  cyl   disp   hp  drat     wt   qsec  vs  am  gear  \\\n",
       "Mazda RX4          21.0    6  160.0  110  3.90  2.620  16.46   0   1     4   \n",
       "Mazda RX4 Wag      21.0    6  160.0  110  3.90  2.875  17.02   0   1     4   \n",
       "Datsun 710         22.8    4  108.0   93  3.85  2.320  18.61   1   1     4   \n",
       "Hornet 4 Drive     21.4    6  258.0  110  3.08  3.215  19.44   1   0     3   \n",
       "Hornet Sportabout  18.7    8  360.0  175  3.15  3.440  17.02   0   0     3   \n",
       "\n",
       "                   carb consumption  \n",
       "Mazda RX4             4     Low MPG  \n",
       "Mazda RX4 Wag         4     Low MPG  \n",
       "Datsun 710            1     Low MPG  \n",
       "Hornet 4 Drive        1     Low MPG  \n",
       "Hornet Sportabout     2     Low MPG  "
      ]
     },
     "execution_count": 12,
     "metadata": {},
     "output_type": "execute_result"
    }
   ],
   "source": [
    "df.head()"
   ]
  },
  {
   "cell_type": "code",
   "execution_count": null,
   "id": "3f07dc73-91d2-4f4b-b1c9-8f1c406f1e63",
   "metadata": {},
   "outputs": [],
   "source": []
  }
 ],
 "metadata": {
  "kernelspec": {
   "display_name": "Python 3 (ipykernel)",
   "language": "python",
   "name": "python3"
  },
  "language_info": {
   "codemirror_mode": {
    "name": "ipython",
    "version": 3
   },
   "file_extension": ".py",
   "mimetype": "text/x-python",
   "name": "python",
   "nbconvert_exporter": "python",
   "pygments_lexer": "ipython3",
   "version": "3.9.7"
  }
 },
 "nbformat": 4,
 "nbformat_minor": 5
}
